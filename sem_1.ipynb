{
  "cells": [
    {
      "cell_type": "markdown",
      "metadata": {
        "id": "view-in-github",
        "colab_type": "text"
      },
      "source": [
        "<a href=\"https://colab.research.google.com/github/shinobu9/econometrica/blob/main/sem_1.ipynb\" target=\"_parent\"><img src=\"https://colab.research.google.com/assets/colab-badge.svg\" alt=\"Open In Colab\"/></a>"
      ]
    },
    {
      "cell_type": "markdown",
      "id": "058066c2",
      "metadata": {
        "id": "058066c2"
      },
      "source": [
        "## Установка библиотек"
      ]
    },
    {
      "cell_type": "code",
      "execution_count": null,
      "id": "bd0e6dff",
      "metadata": {
        "id": "bd0e6dff"
      },
      "outputs": [],
      "source": [
        "import pandas as pd\n",
        "import numpy as np\n",
        "import statsmodels.stats.stattools as stat\n",
        "\n",
        "!pip install pymannkendall\n",
        "import pymannkendall as mk\n",
        "\n",
        "!pip install pandas_market_calendars\n",
        "import pandas_market_calendars as mcal\n",
        "from scipy import stats\n",
        "\n",
        "from datetime import datetime\n",
        "import matplotlib.dates as mdates\n",
        "\n",
        "from matplotlib import pyplot as plt\n",
        "%matplotlib inline"
      ]
    },
    {
      "cell_type": "markdown",
      "id": "3259b102",
      "metadata": {
        "id": "3259b102"
      },
      "source": [
        "## Работа с данными\n",
        "\n",
        "Данные могут прийти в любом виде. Например, данные по индексу Доу-Джонса за период с 28 февраля по 31 декабря 1984 года пришли без указания дат и в непривычном формате:"
      ]
    },
    {
      "cell_type": "code",
      "execution_count": null,
      "id": "fcbc4cba",
      "metadata": {
        "id": "fcbc4cba",
        "colab": {
          "base_uri": "https://localhost:8080/",
          "height": 206
        },
        "outputId": "dd9eac58-3762-4de6-81eb-b90c14ed7590"
      },
      "outputs": [
        {
          "output_type": "execute_result",
          "data": {
            "text/plain": [
              "            dj    dj_ret\n",
              "0  1157.140015       NaN\n",
              "1  1154.630005 -0.002171\n",
              "2  1159.439941  0.004157\n",
              "3  1171.479980  0.010331\n",
              "4  1165.199951 -0.005375"
            ],
            "text/html": [
              "\n",
              "  <div id=\"df-ec1aae03-31dd-45ce-ab4c-4d929064c01d\">\n",
              "    <div class=\"colab-df-container\">\n",
              "      <div>\n",
              "<style scoped>\n",
              "    .dataframe tbody tr th:only-of-type {\n",
              "        vertical-align: middle;\n",
              "    }\n",
              "\n",
              "    .dataframe tbody tr th {\n",
              "        vertical-align: top;\n",
              "    }\n",
              "\n",
              "    .dataframe thead th {\n",
              "        text-align: right;\n",
              "    }\n",
              "</style>\n",
              "<table border=\"1\" class=\"dataframe\">\n",
              "  <thead>\n",
              "    <tr style=\"text-align: right;\">\n",
              "      <th></th>\n",
              "      <th>dj</th>\n",
              "      <th>dj_ret</th>\n",
              "    </tr>\n",
              "  </thead>\n",
              "  <tbody>\n",
              "    <tr>\n",
              "      <th>0</th>\n",
              "      <td>1157.140015</td>\n",
              "      <td>NaN</td>\n",
              "    </tr>\n",
              "    <tr>\n",
              "      <th>1</th>\n",
              "      <td>1154.630005</td>\n",
              "      <td>-0.002171</td>\n",
              "    </tr>\n",
              "    <tr>\n",
              "      <th>2</th>\n",
              "      <td>1159.439941</td>\n",
              "      <td>0.004157</td>\n",
              "    </tr>\n",
              "    <tr>\n",
              "      <th>3</th>\n",
              "      <td>1171.479980</td>\n",
              "      <td>0.010331</td>\n",
              "    </tr>\n",
              "    <tr>\n",
              "      <th>4</th>\n",
              "      <td>1165.199951</td>\n",
              "      <td>-0.005375</td>\n",
              "    </tr>\n",
              "  </tbody>\n",
              "</table>\n",
              "</div>\n",
              "      <button class=\"colab-df-convert\" onclick=\"convertToInteractive('df-ec1aae03-31dd-45ce-ab4c-4d929064c01d')\"\n",
              "              title=\"Convert this dataframe to an interactive table.\"\n",
              "              style=\"display:none;\">\n",
              "        \n",
              "  <svg xmlns=\"http://www.w3.org/2000/svg\" height=\"24px\"viewBox=\"0 0 24 24\"\n",
              "       width=\"24px\">\n",
              "    <path d=\"M0 0h24v24H0V0z\" fill=\"none\"/>\n",
              "    <path d=\"M18.56 5.44l.94 2.06.94-2.06 2.06-.94-2.06-.94-.94-2.06-.94 2.06-2.06.94zm-11 1L8.5 8.5l.94-2.06 2.06-.94-2.06-.94L8.5 2.5l-.94 2.06-2.06.94zm10 10l.94 2.06.94-2.06 2.06-.94-2.06-.94-.94-2.06-.94 2.06-2.06.94z\"/><path d=\"M17.41 7.96l-1.37-1.37c-.4-.4-.92-.59-1.43-.59-.52 0-1.04.2-1.43.59L10.3 9.45l-7.72 7.72c-.78.78-.78 2.05 0 2.83L4 21.41c.39.39.9.59 1.41.59.51 0 1.02-.2 1.41-.59l7.78-7.78 2.81-2.81c.8-.78.8-2.07 0-2.86zM5.41 20L4 18.59l7.72-7.72 1.47 1.35L5.41 20z\"/>\n",
              "  </svg>\n",
              "      </button>\n",
              "      \n",
              "  <style>\n",
              "    .colab-df-container {\n",
              "      display:flex;\n",
              "      flex-wrap:wrap;\n",
              "      gap: 12px;\n",
              "    }\n",
              "\n",
              "    .colab-df-convert {\n",
              "      background-color: #E8F0FE;\n",
              "      border: none;\n",
              "      border-radius: 50%;\n",
              "      cursor: pointer;\n",
              "      display: none;\n",
              "      fill: #1967D2;\n",
              "      height: 32px;\n",
              "      padding: 0 0 0 0;\n",
              "      width: 32px;\n",
              "    }\n",
              "\n",
              "    .colab-df-convert:hover {\n",
              "      background-color: #E2EBFA;\n",
              "      box-shadow: 0px 1px 2px rgba(60, 64, 67, 0.3), 0px 1px 3px 1px rgba(60, 64, 67, 0.15);\n",
              "      fill: #174EA6;\n",
              "    }\n",
              "\n",
              "    [theme=dark] .colab-df-convert {\n",
              "      background-color: #3B4455;\n",
              "      fill: #D2E3FC;\n",
              "    }\n",
              "\n",
              "    [theme=dark] .colab-df-convert:hover {\n",
              "      background-color: #434B5C;\n",
              "      box-shadow: 0px 1px 3px 1px rgba(0, 0, 0, 0.15);\n",
              "      filter: drop-shadow(0px 1px 2px rgba(0, 0, 0, 0.3));\n",
              "      fill: #FFFFFF;\n",
              "    }\n",
              "  </style>\n",
              "\n",
              "      <script>\n",
              "        const buttonEl =\n",
              "          document.querySelector('#df-ec1aae03-31dd-45ce-ab4c-4d929064c01d button.colab-df-convert');\n",
              "        buttonEl.style.display =\n",
              "          google.colab.kernel.accessAllowed ? 'block' : 'none';\n",
              "\n",
              "        async function convertToInteractive(key) {\n",
              "          const element = document.querySelector('#df-ec1aae03-31dd-45ce-ab4c-4d929064c01d');\n",
              "          const dataTable =\n",
              "            await google.colab.kernel.invokeFunction('convertToInteractive',\n",
              "                                                     [key], {});\n",
              "          if (!dataTable) return;\n",
              "\n",
              "          const docLinkHtml = 'Like what you see? Visit the ' +\n",
              "            '<a target=\"_blank\" href=https://colab.research.google.com/notebooks/data_table.ipynb>data table notebook</a>'\n",
              "            + ' to learn more about interactive tables.';\n",
              "          element.innerHTML = '';\n",
              "          dataTable['output_type'] = 'display_data';\n",
              "          await google.colab.output.renderOutput(dataTable, element);\n",
              "          const docLink = document.createElement('div');\n",
              "          docLink.innerHTML = docLinkHtml;\n",
              "          element.appendChild(docLink);\n",
              "        }\n",
              "      </script>\n",
              "    </div>\n",
              "  </div>\n",
              "  "
            ]
          },
          "metadata": {},
          "execution_count": 77
        }
      ],
      "source": [
        "data = pd.read_stata('dj_1984_daily.dta')\n",
        "data.head()"
      ]
    },
    {
      "cell_type": "markdown",
      "id": "276bd1c6",
      "metadata": {
        "id": "276bd1c6"
      },
      "source": [
        "Для корректной работы с временными рядами создадим столбец в формате datetime:"
      ]
    },
    {
      "cell_type": "code",
      "execution_count": null,
      "id": "54464977",
      "metadata": {
        "id": "54464977",
        "colab": {
          "base_uri": "https://localhost:8080/",
          "height": 423
        },
        "outputId": "74316843-da0d-4e11-8a69-afb273425936"
      },
      "outputs": [
        {
          "output_type": "execute_result",
          "data": {
            "text/plain": [
              "              dj    dj_ret       date\n",
              "0    1157.140015       NaN 1984-02-28\n",
              "1    1154.630005 -0.002171 1984-02-29\n",
              "2    1159.439941  0.004157 1984-03-01\n",
              "3    1171.479980  0.010331 1984-03-02\n",
              "4    1165.199951 -0.005375 1984-03-03\n",
              "..           ...       ...        ...\n",
              "209  1210.140015  0.009265 1984-09-24\n",
              "210  1208.920044 -0.001009 1984-09-25\n",
              "211  1202.520020 -0.005308 1984-09-26\n",
              "212  1204.170044  0.001371 1984-09-27\n",
              "213  1211.569946  0.006127 1984-09-28\n",
              "\n",
              "[214 rows x 3 columns]"
            ],
            "text/html": [
              "\n",
              "  <div id=\"df-fe5aef77-590f-496a-baa4-b3fc74a78611\">\n",
              "    <div class=\"colab-df-container\">\n",
              "      <div>\n",
              "<style scoped>\n",
              "    .dataframe tbody tr th:only-of-type {\n",
              "        vertical-align: middle;\n",
              "    }\n",
              "\n",
              "    .dataframe tbody tr th {\n",
              "        vertical-align: top;\n",
              "    }\n",
              "\n",
              "    .dataframe thead th {\n",
              "        text-align: right;\n",
              "    }\n",
              "</style>\n",
              "<table border=\"1\" class=\"dataframe\">\n",
              "  <thead>\n",
              "    <tr style=\"text-align: right;\">\n",
              "      <th></th>\n",
              "      <th>dj</th>\n",
              "      <th>dj_ret</th>\n",
              "      <th>date</th>\n",
              "    </tr>\n",
              "  </thead>\n",
              "  <tbody>\n",
              "    <tr>\n",
              "      <th>0</th>\n",
              "      <td>1157.140015</td>\n",
              "      <td>NaN</td>\n",
              "      <td>1984-02-28</td>\n",
              "    </tr>\n",
              "    <tr>\n",
              "      <th>1</th>\n",
              "      <td>1154.630005</td>\n",
              "      <td>-0.002171</td>\n",
              "      <td>1984-02-29</td>\n",
              "    </tr>\n",
              "    <tr>\n",
              "      <th>2</th>\n",
              "      <td>1159.439941</td>\n",
              "      <td>0.004157</td>\n",
              "      <td>1984-03-01</td>\n",
              "    </tr>\n",
              "    <tr>\n",
              "      <th>3</th>\n",
              "      <td>1171.479980</td>\n",
              "      <td>0.010331</td>\n",
              "      <td>1984-03-02</td>\n",
              "    </tr>\n",
              "    <tr>\n",
              "      <th>4</th>\n",
              "      <td>1165.199951</td>\n",
              "      <td>-0.005375</td>\n",
              "      <td>1984-03-03</td>\n",
              "    </tr>\n",
              "    <tr>\n",
              "      <th>...</th>\n",
              "      <td>...</td>\n",
              "      <td>...</td>\n",
              "      <td>...</td>\n",
              "    </tr>\n",
              "    <tr>\n",
              "      <th>209</th>\n",
              "      <td>1210.140015</td>\n",
              "      <td>0.009265</td>\n",
              "      <td>1984-09-24</td>\n",
              "    </tr>\n",
              "    <tr>\n",
              "      <th>210</th>\n",
              "      <td>1208.920044</td>\n",
              "      <td>-0.001009</td>\n",
              "      <td>1984-09-25</td>\n",
              "    </tr>\n",
              "    <tr>\n",
              "      <th>211</th>\n",
              "      <td>1202.520020</td>\n",
              "      <td>-0.005308</td>\n",
              "      <td>1984-09-26</td>\n",
              "    </tr>\n",
              "    <tr>\n",
              "      <th>212</th>\n",
              "      <td>1204.170044</td>\n",
              "      <td>0.001371</td>\n",
              "      <td>1984-09-27</td>\n",
              "    </tr>\n",
              "    <tr>\n",
              "      <th>213</th>\n",
              "      <td>1211.569946</td>\n",
              "      <td>0.006127</td>\n",
              "      <td>1984-09-28</td>\n",
              "    </tr>\n",
              "  </tbody>\n",
              "</table>\n",
              "<p>214 rows × 3 columns</p>\n",
              "</div>\n",
              "      <button class=\"colab-df-convert\" onclick=\"convertToInteractive('df-fe5aef77-590f-496a-baa4-b3fc74a78611')\"\n",
              "              title=\"Convert this dataframe to an interactive table.\"\n",
              "              style=\"display:none;\">\n",
              "        \n",
              "  <svg xmlns=\"http://www.w3.org/2000/svg\" height=\"24px\"viewBox=\"0 0 24 24\"\n",
              "       width=\"24px\">\n",
              "    <path d=\"M0 0h24v24H0V0z\" fill=\"none\"/>\n",
              "    <path d=\"M18.56 5.44l.94 2.06.94-2.06 2.06-.94-2.06-.94-.94-2.06-.94 2.06-2.06.94zm-11 1L8.5 8.5l.94-2.06 2.06-.94-2.06-.94L8.5 2.5l-.94 2.06-2.06.94zm10 10l.94 2.06.94-2.06 2.06-.94-2.06-.94-.94-2.06-.94 2.06-2.06.94z\"/><path d=\"M17.41 7.96l-1.37-1.37c-.4-.4-.92-.59-1.43-.59-.52 0-1.04.2-1.43.59L10.3 9.45l-7.72 7.72c-.78.78-.78 2.05 0 2.83L4 21.41c.39.39.9.59 1.41.59.51 0 1.02-.2 1.41-.59l7.78-7.78 2.81-2.81c.8-.78.8-2.07 0-2.86zM5.41 20L4 18.59l7.72-7.72 1.47 1.35L5.41 20z\"/>\n",
              "  </svg>\n",
              "      </button>\n",
              "      \n",
              "  <style>\n",
              "    .colab-df-container {\n",
              "      display:flex;\n",
              "      flex-wrap:wrap;\n",
              "      gap: 12px;\n",
              "    }\n",
              "\n",
              "    .colab-df-convert {\n",
              "      background-color: #E8F0FE;\n",
              "      border: none;\n",
              "      border-radius: 50%;\n",
              "      cursor: pointer;\n",
              "      display: none;\n",
              "      fill: #1967D2;\n",
              "      height: 32px;\n",
              "      padding: 0 0 0 0;\n",
              "      width: 32px;\n",
              "    }\n",
              "\n",
              "    .colab-df-convert:hover {\n",
              "      background-color: #E2EBFA;\n",
              "      box-shadow: 0px 1px 2px rgba(60, 64, 67, 0.3), 0px 1px 3px 1px rgba(60, 64, 67, 0.15);\n",
              "      fill: #174EA6;\n",
              "    }\n",
              "\n",
              "    [theme=dark] .colab-df-convert {\n",
              "      background-color: #3B4455;\n",
              "      fill: #D2E3FC;\n",
              "    }\n",
              "\n",
              "    [theme=dark] .colab-df-convert:hover {\n",
              "      background-color: #434B5C;\n",
              "      box-shadow: 0px 1px 3px 1px rgba(0, 0, 0, 0.15);\n",
              "      filter: drop-shadow(0px 1px 2px rgba(0, 0, 0, 0.3));\n",
              "      fill: #FFFFFF;\n",
              "    }\n",
              "  </style>\n",
              "\n",
              "      <script>\n",
              "        const buttonEl =\n",
              "          document.querySelector('#df-fe5aef77-590f-496a-baa4-b3fc74a78611 button.colab-df-convert');\n",
              "        buttonEl.style.display =\n",
              "          google.colab.kernel.accessAllowed ? 'block' : 'none';\n",
              "\n",
              "        async function convertToInteractive(key) {\n",
              "          const element = document.querySelector('#df-fe5aef77-590f-496a-baa4-b3fc74a78611');\n",
              "          const dataTable =\n",
              "            await google.colab.kernel.invokeFunction('convertToInteractive',\n",
              "                                                     [key], {});\n",
              "          if (!dataTable) return;\n",
              "\n",
              "          const docLinkHtml = 'Like what you see? Visit the ' +\n",
              "            '<a target=\"_blank\" href=https://colab.research.google.com/notebooks/data_table.ipynb>data table notebook</a>'\n",
              "            + ' to learn more about interactive tables.';\n",
              "          element.innerHTML = '';\n",
              "          dataTable['output_type'] = 'display_data';\n",
              "          await google.colab.output.renderOutput(dataTable, element);\n",
              "          const docLink = document.createElement('div');\n",
              "          docLink.innerHTML = docLinkHtml;\n",
              "          element.appendChild(docLink);\n",
              "        }\n",
              "      </script>\n",
              "    </div>\n",
              "  </div>\n",
              "  "
            ]
          },
          "metadata": {},
          "execution_count": 78
        }
      ],
      "source": [
        "data['date'] = pd.date_range(start = '1984-02-28', periods=len(data), freq='1D')\n",
        "data"
      ]
    },
    {
      "cell_type": "markdown",
      "id": "72c4d5ca",
      "metadata": {
        "id": "72c4d5ca"
      },
      "source": [
        "Всё ли в порядке? \n",
        "\n",
        "Данные нам дали финансовые, а биржи закрыты по выходным и праздничным дням, для них нужны специальные календари. Нопример, из пакета pandas_market_calendars.\n",
        "\n",
        "Запрашиваем календарь нью-йоркской биржи на нужные даты (посмотреть имена бирж можно с помощью команды print(mcal.get_calendar_names()):"
      ]
    },
    {
      "cell_type": "code",
      "execution_count": null,
      "id": "9c65bf5c",
      "metadata": {
        "id": "9c65bf5c",
        "colab": {
          "base_uri": "https://localhost:8080/"
        },
        "outputId": "22a5c2a4-631b-41ab-9237-a9192b2baf30"
      },
      "outputs": [
        {
          "output_type": "stream",
          "name": "stdout",
          "text": [
            "['ASX', 'BMF', 'B3', 'CFE', 'CBOE_Futures', 'CBOE_Equity_Options', 'CBOE_Index_Options', 'CME_Equity', 'CBOT_Equity', 'CME_Agriculture', 'CBOT_Agriculture', 'COMEX_Agriculture', 'NYMEX_Agriculture', 'CME_Rate', 'CBOT_Rate', 'CME_InterestRate', 'CBOT_InterestRate', 'CME_Bond', 'CBOT_Bond', 'CMEGlobex_Livestock', 'CMEGlobex_Live_Cattle', 'CMEGlobex_Feeder_Cattle', 'CMEGlobex_Lean_Hog', 'CMEGlobex_Port_Cutout', 'CMEGlobex_FX', 'CME_FX', 'CME_Currency', 'CMEGlobex_EnergyAndMetals', 'CMEGlobex_Energy', 'CMEGlobex_CrudeAndRefined', 'CMEGlobex_NYHarbor', 'CMEGlobex_HO', 'HO', 'CMEGlobex_Crude', 'CMEGlobex_CL', 'CL', 'CMEGlobex_Gas', 'CMEGlobex_RB', 'RB', 'CMEGlobex_MicroCrude', 'CMEGlobex_MCL', 'MCL', 'CMEGlobex_NatGas', 'CMEGlobex_NG', 'NG', 'CMEGlobex_Dutch_NatGas', 'CMEGlobex_TTF', 'TTF', 'CMEGlobex_LastDay_NatGas', 'CMEGlobex_NN', 'NN', 'CMEGlobex_CarbonOffset', 'CMEGlobex_CGO', 'CGO', 'C-GEO', 'CMEGlobex_NGO', 'NGO', 'CMEGlobex_GEO', 'GEO', 'CMEGlobex_Metals', 'CMEGlobex_PreciousMetals', 'CMEGlobex_Gold', 'CMEGlobex_GC', 'GC', 'CMEGlobex_SilverCMEGlobex_SI', 'SI', 'CMEGlobex_Platinum', 'CMEGlobex_PL', 'PL', 'CMEGlobex_BaseMetals', 'CMEGlobex_Copper', 'CMEGlobex_HG', 'HG', 'CMEGlobex_Aluminum', 'CMEGlobex_ALI', 'ALI', 'CMEGlobex_QC', 'QC', 'CMEGlobex_FerrousMetals', 'CMEGlobex_HRC', 'HRC', 'CMEGlobex_BUS', 'BUS', 'CMEGlobex_TIO', 'TIO', 'CME Globex Equity', 'CME Globex Fixed Income', 'CME Globex Interest Rate Products', 'EUREX', 'HKEX', 'ICE', 'ICEUS', 'NYFE', 'NYSE', 'stock', 'NASDAQ', 'BATS', 'DJIA', 'DOW', 'IEX', 'Investors_Exchange', 'JPX', 'LSE', 'OSE', 'SIFMAUS', 'SIFMA_US', 'Capital_Markets_US', 'Financial_Markets_US', 'Bond_Markets_US', 'SIFMAUK', 'SIFMA_UK', 'Capital_Markets_UK', 'Financial_Markets_UK', 'Bond_Markets_UK', 'SIFMAJP', 'SIFMA_JP', 'Capital_Markets_JP', 'Financial_Markets_JP', 'Bond_Markets_JP', 'SIX', 'SSE', 'TSX', 'TSXV', 'BSE', 'NSE', 'TASE', 'AIXK', 'ASEX', 'BVMF', 'CMES', 'IEPA', 'XAMS', 'XASX', 'XBKK', 'XBOG', 'XBOM', 'XBRU', 'XBSE', 'XBUD', 'XBUE', 'XCBF', 'XCSE', 'XDUB', 'XFRA', 'XETR', 'XHEL', 'XHKG', 'XICE', 'XIDX', 'XIST', 'XJSE', 'XKAR', 'XKLS', 'XKRX', 'XLIM', 'XLIS', 'XLON', 'XMAD', 'XMEX', 'XMIL', 'XMOS', 'XNYS', 'XNZE', 'XOSL', 'XPAR', 'XPHS', 'XPRA', 'XSES', 'XSGO', 'XSHG', 'XSTO', 'XSWX', 'XTAE', 'XTAI', 'XTKS', 'XTSE', 'XWAR', 'XWBO', 'us_futures', '24/7', '24/5']\n"
          ]
        }
      ],
      "source": [
        "print(mcal.get_calendar_names())"
      ]
    },
    {
      "cell_type": "code",
      "execution_count": null,
      "id": "f0540296",
      "metadata": {
        "id": "f0540296",
        "colab": {
          "base_uri": "https://localhost:8080/",
          "height": 423
        },
        "outputId": "6729b535-7b68-494c-baac-9781c4c5018f"
      },
      "outputs": [
        {
          "output_type": "execute_result",
          "data": {
            "text/plain": [
              "              dj    dj_ret                      date\n",
              "0    1157.140015       NaN 1984-02-28 21:00:00+00:00\n",
              "1    1154.630005 -0.002171 1984-02-29 21:00:00+00:00\n",
              "2    1159.439941  0.004157 1984-03-01 21:00:00+00:00\n",
              "3    1171.479980  0.010331 1984-03-02 21:00:00+00:00\n",
              "4    1165.199951 -0.005375 1984-03-05 21:00:00+00:00\n",
              "..           ...       ...                       ...\n",
              "209  1210.140015  0.009265 1984-12-24 21:00:00+00:00\n",
              "210  1208.920044 -0.001009 1984-12-26 21:00:00+00:00\n",
              "211  1202.520020 -0.005308 1984-12-27 21:00:00+00:00\n",
              "212  1204.170044  0.001371 1984-12-28 21:00:00+00:00\n",
              "213  1211.569946  0.006127 1984-12-31 21:00:00+00:00\n",
              "\n",
              "[214 rows x 3 columns]"
            ],
            "text/html": [
              "\n",
              "  <div id=\"df-0f417136-0a85-44be-b2f8-e6893f0af384\">\n",
              "    <div class=\"colab-df-container\">\n",
              "      <div>\n",
              "<style scoped>\n",
              "    .dataframe tbody tr th:only-of-type {\n",
              "        vertical-align: middle;\n",
              "    }\n",
              "\n",
              "    .dataframe tbody tr th {\n",
              "        vertical-align: top;\n",
              "    }\n",
              "\n",
              "    .dataframe thead th {\n",
              "        text-align: right;\n",
              "    }\n",
              "</style>\n",
              "<table border=\"1\" class=\"dataframe\">\n",
              "  <thead>\n",
              "    <tr style=\"text-align: right;\">\n",
              "      <th></th>\n",
              "      <th>dj</th>\n",
              "      <th>dj_ret</th>\n",
              "      <th>date</th>\n",
              "    </tr>\n",
              "  </thead>\n",
              "  <tbody>\n",
              "    <tr>\n",
              "      <th>0</th>\n",
              "      <td>1157.140015</td>\n",
              "      <td>NaN</td>\n",
              "      <td>1984-02-28 21:00:00+00:00</td>\n",
              "    </tr>\n",
              "    <tr>\n",
              "      <th>1</th>\n",
              "      <td>1154.630005</td>\n",
              "      <td>-0.002171</td>\n",
              "      <td>1984-02-29 21:00:00+00:00</td>\n",
              "    </tr>\n",
              "    <tr>\n",
              "      <th>2</th>\n",
              "      <td>1159.439941</td>\n",
              "      <td>0.004157</td>\n",
              "      <td>1984-03-01 21:00:00+00:00</td>\n",
              "    </tr>\n",
              "    <tr>\n",
              "      <th>3</th>\n",
              "      <td>1171.479980</td>\n",
              "      <td>0.010331</td>\n",
              "      <td>1984-03-02 21:00:00+00:00</td>\n",
              "    </tr>\n",
              "    <tr>\n",
              "      <th>4</th>\n",
              "      <td>1165.199951</td>\n",
              "      <td>-0.005375</td>\n",
              "      <td>1984-03-05 21:00:00+00:00</td>\n",
              "    </tr>\n",
              "    <tr>\n",
              "      <th>...</th>\n",
              "      <td>...</td>\n",
              "      <td>...</td>\n",
              "      <td>...</td>\n",
              "    </tr>\n",
              "    <tr>\n",
              "      <th>209</th>\n",
              "      <td>1210.140015</td>\n",
              "      <td>0.009265</td>\n",
              "      <td>1984-12-24 21:00:00+00:00</td>\n",
              "    </tr>\n",
              "    <tr>\n",
              "      <th>210</th>\n",
              "      <td>1208.920044</td>\n",
              "      <td>-0.001009</td>\n",
              "      <td>1984-12-26 21:00:00+00:00</td>\n",
              "    </tr>\n",
              "    <tr>\n",
              "      <th>211</th>\n",
              "      <td>1202.520020</td>\n",
              "      <td>-0.005308</td>\n",
              "      <td>1984-12-27 21:00:00+00:00</td>\n",
              "    </tr>\n",
              "    <tr>\n",
              "      <th>212</th>\n",
              "      <td>1204.170044</td>\n",
              "      <td>0.001371</td>\n",
              "      <td>1984-12-28 21:00:00+00:00</td>\n",
              "    </tr>\n",
              "    <tr>\n",
              "      <th>213</th>\n",
              "      <td>1211.569946</td>\n",
              "      <td>0.006127</td>\n",
              "      <td>1984-12-31 21:00:00+00:00</td>\n",
              "    </tr>\n",
              "  </tbody>\n",
              "</table>\n",
              "<p>214 rows × 3 columns</p>\n",
              "</div>\n",
              "      <button class=\"colab-df-convert\" onclick=\"convertToInteractive('df-0f417136-0a85-44be-b2f8-e6893f0af384')\"\n",
              "              title=\"Convert this dataframe to an interactive table.\"\n",
              "              style=\"display:none;\">\n",
              "        \n",
              "  <svg xmlns=\"http://www.w3.org/2000/svg\" height=\"24px\"viewBox=\"0 0 24 24\"\n",
              "       width=\"24px\">\n",
              "    <path d=\"M0 0h24v24H0V0z\" fill=\"none\"/>\n",
              "    <path d=\"M18.56 5.44l.94 2.06.94-2.06 2.06-.94-2.06-.94-.94-2.06-.94 2.06-2.06.94zm-11 1L8.5 8.5l.94-2.06 2.06-.94-2.06-.94L8.5 2.5l-.94 2.06-2.06.94zm10 10l.94 2.06.94-2.06 2.06-.94-2.06-.94-.94-2.06-.94 2.06-2.06.94z\"/><path d=\"M17.41 7.96l-1.37-1.37c-.4-.4-.92-.59-1.43-.59-.52 0-1.04.2-1.43.59L10.3 9.45l-7.72 7.72c-.78.78-.78 2.05 0 2.83L4 21.41c.39.39.9.59 1.41.59.51 0 1.02-.2 1.41-.59l7.78-7.78 2.81-2.81c.8-.78.8-2.07 0-2.86zM5.41 20L4 18.59l7.72-7.72 1.47 1.35L5.41 20z\"/>\n",
              "  </svg>\n",
              "      </button>\n",
              "      \n",
              "  <style>\n",
              "    .colab-df-container {\n",
              "      display:flex;\n",
              "      flex-wrap:wrap;\n",
              "      gap: 12px;\n",
              "    }\n",
              "\n",
              "    .colab-df-convert {\n",
              "      background-color: #E8F0FE;\n",
              "      border: none;\n",
              "      border-radius: 50%;\n",
              "      cursor: pointer;\n",
              "      display: none;\n",
              "      fill: #1967D2;\n",
              "      height: 32px;\n",
              "      padding: 0 0 0 0;\n",
              "      width: 32px;\n",
              "    }\n",
              "\n",
              "    .colab-df-convert:hover {\n",
              "      background-color: #E2EBFA;\n",
              "      box-shadow: 0px 1px 2px rgba(60, 64, 67, 0.3), 0px 1px 3px 1px rgba(60, 64, 67, 0.15);\n",
              "      fill: #174EA6;\n",
              "    }\n",
              "\n",
              "    [theme=dark] .colab-df-convert {\n",
              "      background-color: #3B4455;\n",
              "      fill: #D2E3FC;\n",
              "    }\n",
              "\n",
              "    [theme=dark] .colab-df-convert:hover {\n",
              "      background-color: #434B5C;\n",
              "      box-shadow: 0px 1px 3px 1px rgba(0, 0, 0, 0.15);\n",
              "      filter: drop-shadow(0px 1px 2px rgba(0, 0, 0, 0.3));\n",
              "      fill: #FFFFFF;\n",
              "    }\n",
              "  </style>\n",
              "\n",
              "      <script>\n",
              "        const buttonEl =\n",
              "          document.querySelector('#df-0f417136-0a85-44be-b2f8-e6893f0af384 button.colab-df-convert');\n",
              "        buttonEl.style.display =\n",
              "          google.colab.kernel.accessAllowed ? 'block' : 'none';\n",
              "\n",
              "        async function convertToInteractive(key) {\n",
              "          const element = document.querySelector('#df-0f417136-0a85-44be-b2f8-e6893f0af384');\n",
              "          const dataTable =\n",
              "            await google.colab.kernel.invokeFunction('convertToInteractive',\n",
              "                                                     [key], {});\n",
              "          if (!dataTable) return;\n",
              "\n",
              "          const docLinkHtml = 'Like what you see? Visit the ' +\n",
              "            '<a target=\"_blank\" href=https://colab.research.google.com/notebooks/data_table.ipynb>data table notebook</a>'\n",
              "            + ' to learn more about interactive tables.';\n",
              "          element.innerHTML = '';\n",
              "          dataTable['output_type'] = 'display_data';\n",
              "          await google.colab.output.renderOutput(dataTable, element);\n",
              "          const docLink = document.createElement('div');\n",
              "          docLink.innerHTML = docLinkHtml;\n",
              "          element.appendChild(docLink);\n",
              "        }\n",
              "      </script>\n",
              "    </div>\n",
              "  </div>\n",
              "  "
            ]
          },
          "metadata": {},
          "execution_count": 80
        }
      ],
      "source": [
        "trad_dat = mcal.get_calendar('NYSE').schedule(start_date = '1984-02-28', end_date = '1984-12-31')\n",
        "dates = mcal.date_range(trad_dat, frequency='1D')\n",
        "data['date'] = dates\n",
        "data"
      ]
    },
    {
      "cell_type": "markdown",
      "id": "87c40d8f",
      "metadata": {
        "id": "87c40d8f"
      },
      "source": [
        "Полезно посмотреть на график временного ряда. Не забывайте подписывать график и оси!"
      ]
    },
    {
      "cell_type": "code",
      "execution_count": null,
      "id": "f07113d7",
      "metadata": {
        "id": "f07113d7",
        "colab": {
          "base_uri": "https://localhost:8080/",
          "height": 313
        },
        "outputId": "949165da-cde7-4a81-f01b-ea0825643bd1"
      },
      "outputs": [
        {
          "output_type": "display_data",
          "data": {
            "text/plain": [
              "<Figure size 720x288 with 1 Axes>"
            ],
            "image/png": "[encoded data removed]"
          },
          "metadata": {
            "needs_background": "light"
          }
        }
      ],
      "source": [
        "fig, ax = plt.subplots(figsize=(10, 4), constrained_layout=True)\n",
        "\n",
        "ax.set(title='Dow-Jones')\n",
        "ax.plot(data['date'], data['dj'],'b-')\n",
        "ax.xaxis_date()\n",
        "ax.set_xlabel('date')\n",
        "ax.set_ylabel('index')\n",
        "\n",
        "ax.xaxis.set_major_formatter(mdates.DateFormatter(\"%m\"))\n",
        "\n",
        "plt.show()"
      ]
    },
    {
      "cell_type": "markdown",
      "id": "065869ae",
      "metadata": {
        "id": "065869ae"
      },
      "source": [
        "## ЛР1 Проверка гипотезы случайности\n",
        "\n",
        "Правда ли наблюдения взяты из случайной выборки (H0) или в данных есть тренд или какая-то другая закономерность?"
      ]
    },
    {
      "cell_type": "markdown",
      "id": "ee1d2095",
      "metadata": {
        "id": "ee1d2095"
      },
      "source": [
        "## Задача 1 Проверка гипотезы случайности: непараметрические критерии. \n",
        "\n",
        "В файле dj_1897_1913 приведены годовые данные о значениях индекса Доу-Джонса за период с 1897 по 1913 г.г. \n",
        "\n",
        "Считайте файл и выведите первые пять значений в таблице"
      ]
    },
    {
      "cell_type": "code",
      "execution_count": null,
      "id": "a777bc25",
      "metadata": {
        "id": "a777bc25"
      },
      "outputs": [],
      "source": [
        "data = pd.read_csv('dj_1897_1913.csv', sep = ';')"
      ]
    },
    {
      "cell_type": "code",
      "execution_count": null,
      "id": "1993546e",
      "metadata": {
        "id": "1993546e",
        "colab": {
          "base_uri": "https://localhost:8080/",
          "height": 206
        },
        "outputId": "c02f72a6-4f1f-42db-e3a4-d0d97bf433c4"
      },
      "outputs": [
        {
          "output_type": "execute_result",
          "data": {
            "text/plain": [
              "     dj  year\n",
              "0  45.5  1897\n",
              "1  52.8  1898\n",
              "2  71.6  1899\n",
              "3  61.4  1900\n",
              "4  69.9  1901"
            ],
            "text/html": [
              "\n",
              "  <div id=\"df-91dd2a30-c6bf-47d3-ae41-aa96206ff6de\">\n",
              "    <div class=\"colab-df-container\">\n",
              "      <div>\n",
              "<style scoped>\n",
              "    .dataframe tbody tr th:only-of-type {\n",
              "        vertical-align: middle;\n",
              "    }\n",
              "\n",
              "    .dataframe tbody tr th {\n",
              "        vertical-align: top;\n",
              "    }\n",
              "\n",
              "    .dataframe thead th {\n",
              "        text-align: right;\n",
              "    }\n",
              "</style>\n",
              "<table border=\"1\" class=\"dataframe\">\n",
              "  <thead>\n",
              "    <tr style=\"text-align: right;\">\n",
              "      <th></th>\n",
              "      <th>dj</th>\n",
              "      <th>year</th>\n",
              "    </tr>\n",
              "  </thead>\n",
              "  <tbody>\n",
              "    <tr>\n",
              "      <th>0</th>\n",
              "      <td>45.5</td>\n",
              "      <td>1897</td>\n",
              "    </tr>\n",
              "    <tr>\n",
              "      <th>1</th>\n",
              "      <td>52.8</td>\n",
              "      <td>1898</td>\n",
              "    </tr>\n",
              "    <tr>\n",
              "      <th>2</th>\n",
              "      <td>71.6</td>\n",
              "      <td>1899</td>\n",
              "    </tr>\n",
              "    <tr>\n",
              "      <th>3</th>\n",
              "      <td>61.4</td>\n",
              "      <td>1900</td>\n",
              "    </tr>\n",
              "    <tr>\n",
              "      <th>4</th>\n",
              "      <td>69.9</td>\n",
              "      <td>1901</td>\n",
              "    </tr>\n",
              "  </tbody>\n",
              "</table>\n",
              "</div>\n",
              "      <button class=\"colab-df-convert\" onclick=\"convertToInteractive('df-91dd2a30-c6bf-47d3-ae41-aa96206ff6de')\"\n",
              "              title=\"Convert this dataframe to an interactive table.\"\n",
              "              style=\"display:none;\">\n",
              "        \n",
              "  <svg xmlns=\"http://www.w3.org/2000/svg\" height=\"24px\"viewBox=\"0 0 24 24\"\n",
              "       width=\"24px\">\n",
              "    <path d=\"M0 0h24v24H0V0z\" fill=\"none\"/>\n",
              "    <path d=\"M18.56 5.44l.94 2.06.94-2.06 2.06-.94-2.06-.94-.94-2.06-.94 2.06-2.06.94zm-11 1L8.5 8.5l.94-2.06 2.06-.94-2.06-.94L8.5 2.5l-.94 2.06-2.06.94zm10 10l.94 2.06.94-2.06 2.06-.94-2.06-.94-.94-2.06-.94 2.06-2.06.94z\"/><path d=\"M17.41 7.96l-1.37-1.37c-.4-.4-.92-.59-1.43-.59-.52 0-1.04.2-1.43.59L10.3 9.45l-7.72 7.72c-.78.78-.78 2.05 0 2.83L4 21.41c.39.39.9.59 1.41.59.51 0 1.02-.2 1.41-.59l7.78-7.78 2.81-2.81c.8-.78.8-2.07 0-2.86zM5.41 20L4 18.59l7.72-7.72 1.47 1.35L5.41 20z\"/>\n",
              "  </svg>\n",
              "      </button>\n",
              "      \n",
              "  <style>\n",
              "    .colab-df-container {\n",
              "      display:flex;\n",
              "      flex-wrap:wrap;\n",
              "      gap: 12px;\n",
              "    }\n",
              "\n",
              "    .colab-df-convert {\n",
              "      background-color: #E8F0FE;\n",
              "      border: none;\n",
              "      border-radius: 50%;\n",
              "      cursor: pointer;\n",
              "      display: none;\n",
              "      fill: #1967D2;\n",
              "      height: 32px;\n",
              "      padding: 0 0 0 0;\n",
              "      width: 32px;\n",
              "    }\n",
              "\n",
              "    .colab-df-convert:hover {\n",
              "      background-color: #E2EBFA;\n",
              "      box-shadow: 0px 1px 2px rgba(60, 64, 67, 0.3), 0px 1px 3px 1px rgba(60, 64, 67, 0.15);\n",
              "      fill: #174EA6;\n",
              "    }\n",
              "\n",
              "    [theme=dark] .colab-df-convert {\n",
              "      background-color: #3B4455;\n",
              "      fill: #D2E3FC;\n",
              "    }\n",
              "\n",
              "    [theme=dark] .colab-df-convert:hover {\n",
              "      background-color: #434B5C;\n",
              "      box-shadow: 0px 1px 3px 1px rgba(0, 0, 0, 0.15);\n",
              "      filter: drop-shadow(0px 1px 2px rgba(0, 0, 0, 0.3));\n",
              "      fill: #FFFFFF;\n",
              "    }\n",
              "  </style>\n",
              "\n",
              "      <script>\n",
              "        const buttonEl =\n",
              "          document.querySelector('#df-91dd2a30-c6bf-47d3-ae41-aa96206ff6de button.colab-df-convert');\n",
              "        buttonEl.style.display =\n",
              "          google.colab.kernel.accessAllowed ? 'block' : 'none';\n",
              "\n",
              "        async function convertToInteractive(key) {\n",
              "          const element = document.querySelector('#df-91dd2a30-c6bf-47d3-ae41-aa96206ff6de');\n",
              "          const dataTable =\n",
              "            await google.colab.kernel.invokeFunction('convertToInteractive',\n",
              "                                                     [key], {});\n",
              "          if (!dataTable) return;\n",
              "\n",
              "          const docLinkHtml = 'Like what you see? Visit the ' +\n",
              "            '<a target=\"_blank\" href=https://colab.research.google.com/notebooks/data_table.ipynb>data table notebook</a>'\n",
              "            + ' to learn more about interactive tables.';\n",
              "          element.innerHTML = '';\n",
              "          dataTable['output_type'] = 'display_data';\n",
              "          await google.colab.output.renderOutput(dataTable, element);\n",
              "          const docLink = document.createElement('div');\n",
              "          docLink.innerHTML = docLinkHtml;\n",
              "          element.appendChild(docLink);\n",
              "        }\n",
              "      </script>\n",
              "    </div>\n",
              "  </div>\n",
              "  "
            ]
          },
          "metadata": {},
          "execution_count": 96
        }
      ],
      "source": [
        "data.head(5)"
      ]
    },
    {
      "cell_type": "markdown",
      "id": "969232b4",
      "metadata": {
        "id": "969232b4"
      },
      "source": [
        "Определите количество наблюдений в выборке. Для удобства разметим данные как годовые. \n",
        "\n",
        "Иногда команда to_datetime() не справляюется с разметкой данных и требуется указать формат в стиле %Y-%m-%d. Попробуйте запустить код ниже без указания формата"
      ]
    },
    {
      "cell_type": "code",
      "execution_count": null,
      "id": "baec0279",
      "metadata": {
        "id": "baec0279",
        "colab": {
          "base_uri": "https://localhost:8080/",
          "height": 206
        },
        "outputId": "f00b18c3-c37a-4e6f-caa4-dfff0235b548"
      },
      "outputs": [
        {
          "output_type": "execute_result",
          "data": {
            "text/plain": [
              "     dj       year\n",
              "0  45.5 1897-01-01\n",
              "1  52.8 1898-01-01\n",
              "2  71.6 1899-01-01\n",
              "3  61.4 1900-01-01\n",
              "4  69.9 1901-01-01"
            ],
            "text/html": [
              "\n",
              "  <div id=\"df-f3f920d1-99e8-4c75-b3d8-27669e2c28f7\">\n",
              "    <div class=\"colab-df-container\">\n",
              "      <div>\n",
              "<style scoped>\n",
              "    .dataframe tbody tr th:only-of-type {\n",
              "        vertical-align: middle;\n",
              "    }\n",
              "\n",
              "    .dataframe tbody tr th {\n",
              "        vertical-align: top;\n",
              "    }\n",
              "\n",
              "    .dataframe thead th {\n",
              "        text-align: right;\n",
              "    }\n",
              "</style>\n",
              "<table border=\"1\" class=\"dataframe\">\n",
              "  <thead>\n",
              "    <tr style=\"text-align: right;\">\n",
              "      <th></th>\n",
              "      <th>dj</th>\n",
              "      <th>year</th>\n",
              "    </tr>\n",
              "  </thead>\n",
              "  <tbody>\n",
              "    <tr>\n",
              "      <th>0</th>\n",
              "      <td>45.5</td>\n",
              "      <td>1897-01-01</td>\n",
              "    </tr>\n",
              "    <tr>\n",
              "      <th>1</th>\n",
              "      <td>52.8</td>\n",
              "      <td>1898-01-01</td>\n",
              "    </tr>\n",
              "    <tr>\n",
              "      <th>2</th>\n",
              "      <td>71.6</td>\n",
              "      <td>1899-01-01</td>\n",
              "    </tr>\n",
              "    <tr>\n",
              "      <th>3</th>\n",
              "      <td>61.4</td>\n",
              "      <td>1900-01-01</td>\n",
              "    </tr>\n",
              "    <tr>\n",
              "      <th>4</th>\n",
              "      <td>69.9</td>\n",
              "      <td>1901-01-01</td>\n",
              "    </tr>\n",
              "  </tbody>\n",
              "</table>\n",
              "</div>\n",
              "      <button class=\"colab-df-convert\" onclick=\"convertToInteractive('df-f3f920d1-99e8-4c75-b3d8-27669e2c28f7')\"\n",
              "              title=\"Convert this dataframe to an interactive table.\"\n",
              "              style=\"display:none;\">\n",
              "        \n",
              "  <svg xmlns=\"http://www.w3.org/2000/svg\" height=\"24px\"viewBox=\"0 0 24 24\"\n",
              "       width=\"24px\">\n",
              "    <path d=\"M0 0h24v24H0V0z\" fill=\"none\"/>\n",
              "    <path d=\"M18.56 5.44l.94 2.06.94-2.06 2.06-.94-2.06-.94-.94-2.06-.94 2.06-2.06.94zm-11 1L8.5 8.5l.94-2.06 2.06-.94-2.06-.94L8.5 2.5l-.94 2.06-2.06.94zm10 10l.94 2.06.94-2.06 2.06-.94-2.06-.94-.94-2.06-.94 2.06-2.06.94z\"/><path d=\"M17.41 7.96l-1.37-1.37c-.4-.4-.92-.59-1.43-.59-.52 0-1.04.2-1.43.59L10.3 9.45l-7.72 7.72c-.78.78-.78 2.05 0 2.83L4 21.41c.39.39.9.59 1.41.59.51 0 1.02-.2 1.41-.59l7.78-7.78 2.81-2.81c.8-.78.8-2.07 0-2.86zM5.41 20L4 18.59l7.72-7.72 1.47 1.35L5.41 20z\"/>\n",
              "  </svg>\n",
              "      </button>\n",
              "      \n",
              "  <style>\n",
              "    .colab-df-container {\n",
              "      display:flex;\n",
              "      flex-wrap:wrap;\n",
              "      gap: 12px;\n",
              "    }\n",
              "\n",
              "    .colab-df-convert {\n",
              "      background-color: #E8F0FE;\n",
              "      border: none;\n",
              "      border-radius: 50%;\n",
              "      cursor: pointer;\n",
              "      display: none;\n",
              "      fill: #1967D2;\n",
              "      height: 32px;\n",
              "      padding: 0 0 0 0;\n",
              "      width: 32px;\n",
              "    }\n",
              "\n",
              "    .colab-df-convert:hover {\n",
              "      background-color: #E2EBFA;\n",
              "      box-shadow: 0px 1px 2px rgba(60, 64, 67, 0.3), 0px 1px 3px 1px rgba(60, 64, 67, 0.15);\n",
              "      fill: #174EA6;\n",
              "    }\n",
              "\n",
              "    [theme=dark] .colab-df-convert {\n",
              "      background-color: #3B4455;\n",
              "      fill: #D2E3FC;\n",
              "    }\n",
              "\n",
              "    [theme=dark] .colab-df-convert:hover {\n",
              "      background-color: #434B5C;\n",
              "      box-shadow: 0px 1px 3px 1px rgba(0, 0, 0, 0.15);\n",
              "      filter: drop-shadow(0px 1px 2px rgba(0, 0, 0, 0.3));\n",
              "      fill: #FFFFFF;\n",
              "    }\n",
              "  </style>\n",
              "\n",
              "      <script>\n",
              "        const buttonEl =\n",
              "          document.querySelector('#df-f3f920d1-99e8-4c75-b3d8-27669e2c28f7 button.colab-df-convert');\n",
              "        buttonEl.style.display =\n",
              "          google.colab.kernel.accessAllowed ? 'block' : 'none';\n",
              "\n",
              "        async function convertToInteractive(key) {\n",
              "          const element = document.querySelector('#df-f3f920d1-99e8-4c75-b3d8-27669e2c28f7');\n",
              "          const dataTable =\n",
              "            await google.colab.kernel.invokeFunction('convertToInteractive',\n",
              "                                                     [key], {});\n",
              "          if (!dataTable) return;\n",
              "\n",
              "          const docLinkHtml = 'Like what you see? Visit the ' +\n",
              "            '<a target=\"_blank\" href=https://colab.research.google.com/notebooks/data_table.ipynb>data table notebook</a>'\n",
              "            + ' to learn more about interactive tables.';\n",
              "          element.innerHTML = '';\n",
              "          dataTable['output_type'] = 'display_data';\n",
              "          await google.colab.output.renderOutput(dataTable, element);\n",
              "          const docLink = document.createElement('div');\n",
              "          docLink.innerHTML = docLinkHtml;\n",
              "          element.appendChild(docLink);\n",
              "        }\n",
              "      </script>\n",
              "    </div>\n",
              "  </div>\n",
              "  "
            ]
          },
          "metadata": {},
          "execution_count": 97
        }
      ],
      "source": [
        "data['year'] = pd.to_datetime(data['year'], format = '%Y')\n",
        "#data['year'] = pd.to_datetime(data['year'])\n",
        "data.head()"
      ]
    },
    {
      "cell_type": "markdown",
      "id": "4f25457c",
      "metadata": {
        "id": "4f25457c"
      },
      "source": [
        "### 1.1 Посмотрите на график этого ряда. \n",
        "Согласились ли бы Вы с утверждением о том, что это реализация случайной выборки?"
      ]
    },
    {
      "cell_type": "code",
      "execution_count": null,
      "id": "4a6a41d0",
      "metadata": {
        "id": "4a6a41d0",
        "colab": {
          "base_uri": "https://localhost:8080/",
          "height": 313
        },
        "outputId": "cc1dd5fa-9d1c-49bf-cf80-c9627257f7f5"
      },
      "outputs": [
        {
          "output_type": "display_data",
          "data": {
            "text/plain": [
              "<Figure size 720x288 with 1 Axes>"
            ],
            "image/png": "[encoded data removed]"
          },
          "metadata": {
            "needs_background": "light"
          }
        }
      ],
      "source": [
        "fig, ax = plt.subplots(figsize=(10, 4), constrained_layout=True)\n",
        "\n",
        "ax.set(title='Dow-Jones')\n",
        "ax.plot(data['year'], data['dj'],'b-')\n",
        "ax.xaxis_date()\n",
        "ax.set_xlabel('date')\n",
        "ax.set_ylabel('index')\n",
        "\n",
        "ax.xaxis.set_major_formatter(mdates.DateFormatter(\"%Y\"))\n",
        "\n",
        "plt.show()"
      ]
    },
    {
      "cell_type": "markdown",
      "id": "1efeafab",
      "metadata": {
        "id": "1efeafab"
      },
      "source": [
        "### 1.2 Критерий поворотных точек\n",
        "\n",
        "Проверьте гипотезу случайности для ряда этих значений, применяя критерий поворотных точек с непосредственным вычислением статистики этого теста на основании визуального анализа графика ряда.\n",
        "\n",
        "Сколько пиков наблюдается? Сколько впадин? Сколько поворотных точек?\n",
        "\n",
        "Вычислите статистику критерия поворотных точек"
      ]
    },
    {
      "cell_type": "code",
      "execution_count": null,
      "id": "38822534",
      "metadata": {
        "id": "38822534",
        "colab": {
          "base_uri": "https://localhost:8080/"
        },
        "outputId": "9e05e846-f9fb-48ee-a2a6-4541fc183396"
      },
      "outputs": [
        {
          "output_type": "stream",
          "name": "stdout",
          "text": [
            "17 5 4 9\n"
          ]
        }
      ],
      "source": [
        "n = len(data['year'])\n",
        "picks = 5\n",
        "bottoms = 4\n",
        "s = picks + bottoms\n",
        "\n",
        "print(n, picks, bottoms, s)"
      ]
    },
    {
      "cell_type": "code",
      "execution_count": null,
      "id": "5a7188e2",
      "metadata": {
        "id": "5a7188e2",
        "colab": {
          "base_uri": "https://localhost:8080/"
        },
        "outputId": "fd54668b-d29c-4a7e-e536-2cb1593e5331"
      },
      "outputs": [
        {
          "output_type": "stream",
          "name": "stdout",
          "text": [
            "10.0 2.7 -0.609\n"
          ]
        }
      ],
      "source": [
        "E_s = (n - 2) * 2 / 3\n",
        "D_s = (16 * n - 29) / 90\n",
        "S_stat = (s - E_s) / np.sqrt(D_s)\n",
        "\n",
        "print(round(E_s, 3), round(D_s, 3), round(S_stat, 3))"
      ]
    },
    {
      "cell_type": "markdown",
      "id": "6eb1ded2",
      "metadata": {
        "id": "6eb1ded2"
      },
      "source": [
        "Сформулируйте нулевую гипотезу и проверьте, отвергается ли она"
      ]
    },
    {
      "cell_type": "markdown",
      "source": [
        "H0: случайный процесс\n",
        "HA: неслучайный процесс\n",
        "\n",
        "Так как статистика из стандартного нормального распределения, то, так как статистика по модулю меньше 1.96, то гипотеза не отвергается"
      ],
      "metadata": {
        "id": "K0tqY_3L0yCh"
      },
      "id": "K0tqY_3L0yCh"
    },
    {
      "cell_type": "markdown",
      "id": "21d46542",
      "metadata": {
        "id": "21d46542"
      },
      "source": [
        "### 1.3 Логарифмическая доходность\n",
        "\n",
        "Постройте аналогичный график для логаримфической доходности индекса Доу-Джонса (определяемой как изменение логарифма индекса от года к году)"
      ]
    },
    {
      "cell_type": "markdown",
      "id": "542c4c52",
      "metadata": {
        "id": "542c4c52"
      },
      "source": [
        "Создайте столбцы логарифма индекса и логарифмической доходности (разницы между соседними значениями ряда логарифмов)\n"
      ]
    },
    {
      "cell_type": "code",
      "execution_count": null,
      "id": "70569987",
      "metadata": {
        "id": "70569987"
      },
      "outputs": [],
      "source": [
        "data['log_dj'] = np.log(data['dj'])\n",
        "data['dj_ret'] = data['log_dj'].diff(1)"
      ]
    },
    {
      "cell_type": "markdown",
      "id": "374eb3ad",
      "metadata": {
        "id": "374eb3ad"
      },
      "source": [
        "Выведите первые 5 значений таблицы"
      ]
    },
    {
      "cell_type": "code",
      "execution_count": null,
      "id": "ccb2451d",
      "metadata": {
        "id": "ccb2451d",
        "colab": {
          "base_uri": "https://localhost:8080/",
          "height": 206
        },
        "outputId": "2348857a-28d1-4b39-9c40-5e61d35178fe"
      },
      "outputs": [
        {
          "output_type": "execute_result",
          "data": {
            "text/plain": [
              "     dj       year    log_dj    dj_ret\n",
              "0  45.5 1897-01-01  3.817712       NaN\n",
              "1  52.8 1898-01-01  3.966511  0.148799\n",
              "2  71.6 1899-01-01  4.271095  0.304584\n",
              "3  61.4 1900-01-01  4.117410 -0.153685\n",
              "4  69.9 1901-01-01  4.247066  0.129656"
            ],
            "text/html": [
              "\n",
              "  <div id=\"df-fab29a4d-44c1-41b0-8bd0-e43e9b0550b3\">\n",
              "    <div class=\"colab-df-container\">\n",
              "      <div>\n",
              "<style scoped>\n",
              "    .dataframe tbody tr th:only-of-type {\n",
              "        vertical-align: middle;\n",
              "    }\n",
              "\n",
              "    .dataframe tbody tr th {\n",
              "        vertical-align: top;\n",
              "    }\n",
              "\n",
              "    .dataframe thead th {\n",
              "        text-align: right;\n",
              "    }\n",
              "</style>\n",
              "<table border=\"1\" class=\"dataframe\">\n",
              "  <thead>\n",
              "    <tr style=\"text-align: right;\">\n",
              "      <th></th>\n",
              "      <th>dj</th>\n",
              "      <th>year</th>\n",
              "      <th>log_dj</th>\n",
              "      <th>dj_ret</th>\n",
              "    </tr>\n",
              "  </thead>\n",
              "  <tbody>\n",
              "    <tr>\n",
              "      <th>0</th>\n",
              "      <td>45.5</td>\n",
              "      <td>1897-01-01</td>\n",
              "      <td>3.817712</td>\n",
              "      <td>NaN</td>\n",
              "    </tr>\n",
              "    <tr>\n",
              "      <th>1</th>\n",
              "      <td>52.8</td>\n",
              "      <td>1898-01-01</td>\n",
              "      <td>3.966511</td>\n",
              "      <td>0.148799</td>\n",
              "    </tr>\n",
              "    <tr>\n",
              "      <th>2</th>\n",
              "      <td>71.6</td>\n",
              "      <td>1899-01-01</td>\n",
              "      <td>4.271095</td>\n",
              "      <td>0.304584</td>\n",
              "    </tr>\n",
              "    <tr>\n",
              "      <th>3</th>\n",
              "      <td>61.4</td>\n",
              "      <td>1900-01-01</td>\n",
              "      <td>4.117410</td>\n",
              "      <td>-0.153685</td>\n",
              "    </tr>\n",
              "    <tr>\n",
              "      <th>4</th>\n",
              "      <td>69.9</td>\n",
              "      <td>1901-01-01</td>\n",
              "      <td>4.247066</td>\n",
              "      <td>0.129656</td>\n",
              "    </tr>\n",
              "  </tbody>\n",
              "</table>\n",
              "</div>\n",
              "      <button class=\"colab-df-convert\" onclick=\"convertToInteractive('df-fab29a4d-44c1-41b0-8bd0-e43e9b0550b3')\"\n",
              "              title=\"Convert this dataframe to an interactive table.\"\n",
              "              style=\"display:none;\">\n",
              "        \n",
              "  <svg xmlns=\"http://www.w3.org/2000/svg\" height=\"24px\"viewBox=\"0 0 24 24\"\n",
              "       width=\"24px\">\n",
              "    <path d=\"M0 0h24v24H0V0z\" fill=\"none\"/>\n",
              "    <path d=\"M18.56 5.44l.94 2.06.94-2.06 2.06-.94-2.06-.94-.94-2.06-.94 2.06-2.06.94zm-11 1L8.5 8.5l.94-2.06 2.06-.94-2.06-.94L8.5 2.5l-.94 2.06-2.06.94zm10 10l.94 2.06.94-2.06 2.06-.94-2.06-.94-.94-2.06-.94 2.06-2.06.94z\"/><path d=\"M17.41 7.96l-1.37-1.37c-.4-.4-.92-.59-1.43-.59-.52 0-1.04.2-1.43.59L10.3 9.45l-7.72 7.72c-.78.78-.78 2.05 0 2.83L4 21.41c.39.39.9.59 1.41.59.51 0 1.02-.2 1.41-.59l7.78-7.78 2.81-2.81c.8-.78.8-2.07 0-2.86zM5.41 20L4 18.59l7.72-7.72 1.47 1.35L5.41 20z\"/>\n",
              "  </svg>\n",
              "      </button>\n",
              "      \n",
              "  <style>\n",
              "    .colab-df-container {\n",
              "      display:flex;\n",
              "      flex-wrap:wrap;\n",
              "      gap: 12px;\n",
              "    }\n",
              "\n",
              "    .colab-df-convert {\n",
              "      background-color: #E8F0FE;\n",
              "      border: none;\n",
              "      border-radius: 50%;\n",
              "      cursor: pointer;\n",
              "      display: none;\n",
              "      fill: #1967D2;\n",
              "      height: 32px;\n",
              "      padding: 0 0 0 0;\n",
              "      width: 32px;\n",
              "    }\n",
              "\n",
              "    .colab-df-convert:hover {\n",
              "      background-color: #E2EBFA;\n",
              "      box-shadow: 0px 1px 2px rgba(60, 64, 67, 0.3), 0px 1px 3px 1px rgba(60, 64, 67, 0.15);\n",
              "      fill: #174EA6;\n",
              "    }\n",
              "\n",
              "    [theme=dark] .colab-df-convert {\n",
              "      background-color: #3B4455;\n",
              "      fill: #D2E3FC;\n",
              "    }\n",
              "\n",
              "    [theme=dark] .colab-df-convert:hover {\n",
              "      background-color: #434B5C;\n",
              "      box-shadow: 0px 1px 3px 1px rgba(0, 0, 0, 0.15);\n",
              "      filter: drop-shadow(0px 1px 2px rgba(0, 0, 0, 0.3));\n",
              "      fill: #FFFFFF;\n",
              "    }\n",
              "  </style>\n",
              "\n",
              "      <script>\n",
              "        const buttonEl =\n",
              "          document.querySelector('#df-fab29a4d-44c1-41b0-8bd0-e43e9b0550b3 button.colab-df-convert');\n",
              "        buttonEl.style.display =\n",
              "          google.colab.kernel.accessAllowed ? 'block' : 'none';\n",
              "\n",
              "        async function convertToInteractive(key) {\n",
              "          const element = document.querySelector('#df-fab29a4d-44c1-41b0-8bd0-e43e9b0550b3');\n",
              "          const dataTable =\n",
              "            await google.colab.kernel.invokeFunction('convertToInteractive',\n",
              "                                                     [key], {});\n",
              "          if (!dataTable) return;\n",
              "\n",
              "          const docLinkHtml = 'Like what you see? Visit the ' +\n",
              "            '<a target=\"_blank\" href=https://colab.research.google.com/notebooks/data_table.ipynb>data table notebook</a>'\n",
              "            + ' to learn more about interactive tables.';\n",
              "          element.innerHTML = '';\n",
              "          dataTable['output_type'] = 'display_data';\n",
              "          await google.colab.output.renderOutput(dataTable, element);\n",
              "          const docLink = document.createElement('div');\n",
              "          docLink.innerHTML = docLinkHtml;\n",
              "          element.appendChild(docLink);\n",
              "        }\n",
              "      </script>\n",
              "    </div>\n",
              "  </div>\n",
              "  "
            ]
          },
          "metadata": {},
          "execution_count": 102
        }
      ],
      "source": [
        "data.head(5)"
      ]
    },
    {
      "cell_type": "markdown",
      "id": "15856e58",
      "metadata": {
        "id": "15856e58"
      },
      "source": [
        "Постройте график логарифмической доходности"
      ]
    },
    {
      "cell_type": "code",
      "execution_count": null,
      "id": "afe615fa",
      "metadata": {
        "id": "afe615fa",
        "colab": {
          "base_uri": "https://localhost:8080/",
          "height": 313
        },
        "outputId": "7c892ea6-aab7-4024-a568-e4ed996ee6c6"
      },
      "outputs": [
        {
          "output_type": "display_data",
          "data": {
            "text/plain": [
              "<Figure size 720x288 with 1 Axes>"
            ],
            "image/png": "[encoded data removed]"
          },
          "metadata": {
            "needs_background": "light"
          }
        }
      ],
      "source": [
        "fig, ax = plt.subplots(figsize=(10, 4), constrained_layout=True)\n",
        "\n",
        "ax.set(title='Dow-Jones return')\n",
        "ax.plot(data['year'], data['dj_ret'],'b-')\n",
        "ax.plot(data['year'], np.zeros(len(data['year'])),'r-')\n",
        "ax.xaxis_date()\n",
        "ax.set_xlabel('date')\n",
        "ax.set_ylabel('index')\n",
        "\n",
        "ax.xaxis.set_major_formatter(mdates.DateFormatter(\"%Y\"))\n",
        "\n",
        "plt.show()"
      ]
    },
    {
      "cell_type": "markdown",
      "id": "f55560ac",
      "metadata": {
        "id": "f55560ac"
      },
      "source": [
        "Вычислите статистику критерия поворотных точек"
      ]
    },
    {
      "cell_type": "code",
      "execution_count": null,
      "id": "3475cf77",
      "metadata": {
        "id": "3475cf77",
        "colab": {
          "base_uri": "https://localhost:8080/"
        },
        "outputId": "614f501b-f9e4-4187-d77b-50058aa40f56"
      },
      "outputs": [
        {
          "output_type": "stream",
          "name": "stdout",
          "text": [
            "16 5 4 9\n"
          ]
        }
      ],
      "source": [
        "n = len(data['dj_ret']) - 1\n",
        "picks = 5\n",
        "bottoms = 4\n",
        "s = picks + bottoms\n",
        "\n",
        "print(n, picks, bottoms, s)"
      ]
    },
    {
      "cell_type": "code",
      "execution_count": null,
      "id": "385cc16b",
      "metadata": {
        "id": "385cc16b",
        "colab": {
          "base_uri": "https://localhost:8080/"
        },
        "outputId": "f6e9da44-4f50-44ae-fcf8-2f0e73d388b9"
      },
      "outputs": [
        {
          "output_type": "stream",
          "name": "stdout",
          "text": [
            "9.333 2.522 -0.21\n"
          ]
        }
      ],
      "source": [
        "E_s = (n - 2) * 2 / 3\n",
        "D_s = (16 * n - 29) / 90\n",
        "S_stat = (s - E_s) / np.sqrt(D_s)\n",
        "\n",
        "print(round(E_s, 3), round(D_s, 3), round(S_stat, 3))"
      ]
    },
    {
      "cell_type": "markdown",
      "id": "069f05a3",
      "metadata": {
        "id": "069f05a3"
      },
      "source": [
        "### 1.4 Критерий поворотных точек\n",
        "\n",
        "Сравните полученные результаты с результатами приведенного алгоритма для рядов индекса и логарифмической доходности"
      ]
    },
    {
      "cell_type": "code",
      "execution_count": null,
      "id": "2f78e03b",
      "metadata": {
        "id": "2f78e03b"
      },
      "outputs": [],
      "source": [
        "def turning_points_test(p):\n",
        "    tp = []\n",
        "    pcks = 0\n",
        "    btms = 0\n",
        "    for i in range(1, len(p)-1):\n",
        "        if((p[i] < p[i+1]) and (p[i] < p[i-1])):\n",
        "            pcks += 1\n",
        "            tp.append(i)\n",
        "        elif ((p[i] > p[i+1]) and (p[i] > p[i-1])):\n",
        "            btms += 1\n",
        "            tp.append(i)\n",
        "    \n",
        "    n = sum(~np.isnan(p))\n",
        "    E_s = (n - 2) * 2 / 3\n",
        "    D_s = (16 * n - 29) / 90\n",
        "    S_stat = (pcks + btms - E_s) / np.sqrt(D_s)\n",
        "\n",
        "    #tp, pcks, btms, round(E_s, 3), round(D_s, 3), round(S_stat, 3)\n",
        "\n",
        "    print(' # наблюдений =', p.count(),\n",
        "      '\\n пики =', pcks,\n",
        "      '\\n впадины =', btms, \n",
        "      '\\n поворотные точки =', len(tp),\n",
        "      '\\n среднее', round(E_s, 3),\n",
        "      '\\n дисперсия', round(D_s, 3),\n",
        "      '\\n статистика', round(S_stat, 3))"
      ]
    },
    {
      "cell_type": "code",
      "source": [
        "turning_points_test(data['dj'])"
      ],
      "metadata": {
        "id": "jqhNs8Z5YA2v",
        "colab": {
          "base_uri": "https://localhost:8080/"
        },
        "outputId": "dddaa90c-1d3a-4019-9541-f4edb8391180"
      },
      "id": "jqhNs8Z5YA2v",
      "execution_count": null,
      "outputs": [
        {
          "output_type": "stream",
          "name": "stdout",
          "text": [
            " # наблюдений = 17 \n",
            " пики = 4 \n",
            " впадины = 5 \n",
            " поворотные точки = 9 \n",
            " среднее 10.0 \n",
            " дисперсия 2.7 \n",
            " статистика -0.609\n"
          ]
        }
      ]
    },
    {
      "cell_type": "code",
      "execution_count": null,
      "id": "7685e498",
      "metadata": {
        "id": "7685e498",
        "colab": {
          "base_uri": "https://localhost:8080/"
        },
        "outputId": "06b26413-2cc0-48c9-a1af-a1d6e443e5a2"
      },
      "outputs": [
        {
          "output_type": "stream",
          "name": "stdout",
          "text": [
            " # наблюдений = 16 \n",
            " пики = 4 \n",
            " впадины = 5 \n",
            " поворотные точки = 9 \n",
            " среднее 9.333 \n",
            " дисперсия 2.522 \n",
            " статистика -0.21\n"
          ]
        }
      ],
      "source": [
        "turning_points_test(data['dj_ret'])"
      ]
    },
    {
      "cell_type": "markdown",
      "id": "b7e5c487",
      "metadata": {
        "id": "b7e5c487"
      },
      "source": [
        "### 1.5 Критерий Кендалла\n",
        "\n",
        "Проверьте те же гипотезы, применяя критерий Кендалла. "
      ]
    },
    {
      "cell_type": "markdown",
      "id": "85f23431",
      "metadata": {
        "id": "85f23431"
      },
      "source": [
        "Для индекса:"
      ]
    },
    {
      "cell_type": "code",
      "execution_count": null,
      "id": "61bee404",
      "metadata": {
        "id": "61bee404",
        "colab": {
          "base_uri": "https://localhost:8080/"
        },
        "outputId": "a7cf3138-f8c0-4ab3-8353-2cbd999eb909"
      },
      "outputs": [
        {
          "output_type": "execute_result",
          "data": {
            "text/plain": [
              "Mann_Kendall_Test(trend='increasing', h=True, p=0.002637861089462845, z=3.0070618241864664, Tau=0.5441176470588235, s=74.0, var_s=589.3333333333334, slope=2.233333333333337, intercept=57.03333333333331)"
            ]
          },
          "metadata": {},
          "execution_count": 109
        }
      ],
      "source": [
        "# trend, h, p, z, Tau, s, var_s, slope, intercept = mk.original_test(data)\n",
        "results = mk.original_test(data['dj'])\n",
        "results"
      ]
    },
    {
      "cell_type": "code",
      "execution_count": null,
      "id": "de7e3eb9",
      "metadata": {
        "id": "de7e3eb9",
        "colab": {
          "base_uri": "https://localhost:8080/"
        },
        "outputId": "fcfb2096-97f6-4874-da3d-4ac704f2f6c5"
      },
      "outputs": [
        {
          "output_type": "stream",
          "name": "stdout",
          "text": [
            " p-value 0.003 \n",
            " тау Кендалла = 0.544 \n",
            " стандартизированная тау = 3.007\n"
          ]
        }
      ],
      "source": [
        "print(' p-value', round(results.p, 3),\n",
        "      '\\n тау Кендалла =', round(results.Tau, 3),\n",
        "      '\\n стандартизированная тау =', round(results.z, 3))"
      ]
    },
    {
      "cell_type": "code",
      "execution_count": null,
      "id": "a33fbb70",
      "metadata": {
        "id": "a33fbb70",
        "colab": {
          "base_uri": "https://localhost:8080/"
        },
        "outputId": "e2196e3a-0b76-410e-c0ca-53bed702c37a"
      },
      "outputs": [
        {
          "output_type": "stream",
          "name": "stdout",
          "text": [
            " p-value 0.499 \n",
            " тау Кендалла = -0.133 \n",
            " стандартизированная тау = -0.675\n"
          ]
        }
      ],
      "source": [
        "results_ret = mk.original_test(data['dj_ret'])\n",
        "\n",
        "print(' p-value', round(results_ret.p, 3),\n",
        "      '\\n тау Кендалла =', round(results_ret.Tau, 3),\n",
        "      '\\n стандартизированная тау =', round(results_ret.z, 3))"
      ]
    },
    {
      "cell_type": "markdown",
      "id": "0fab0200",
      "metadata": {
        "id": "0fab0200"
      },
      "source": [
        "В случае обнаружения расхождений статистических выводов для критерия поворотных точек и критерия Кендалла, объясните, чем это может быть вызвано."
      ]
    },
    {
      "cell_type": "markdown",
      "id": "22152ac0",
      "metadata": {
        "id": "22152ac0"
      },
      "source": [
        "### 1.6 Критерий серий\n",
        "\n",
        "Проверьте те же гипотезы, применяя критерий серий. Используйте соответствующую программу. Убедитесь, что программа правильно вычисляет количества плюсов и минусов и количества серий из плюсов и из минусов.\n",
        "\n",
        "Создайте столбец отклонений индекса Доу-Джонса от медианы и изобразите на графике"
      ]
    },
    {
      "cell_type": "code",
      "execution_count": null,
      "id": "f94f37e6",
      "metadata": {
        "id": "f94f37e6"
      },
      "outputs": [],
      "source": [
        "data['delta_dj'] = data['dj'] - data['dj'].median()"
      ]
    },
    {
      "cell_type": "code",
      "execution_count": null,
      "id": "661d26e1",
      "metadata": {
        "id": "661d26e1",
        "colab": {
          "base_uri": "https://localhost:8080/",
          "height": 206
        },
        "outputId": "1ff222a1-5c95-42a0-94ee-8f4a1303d9cc"
      },
      "outputs": [
        {
          "output_type": "execute_result",
          "data": {
            "text/plain": [
              "     dj       year    log_dj    dj_ret  delta_dj\n",
              "0  45.5 1897-01-01  3.817712       NaN     -29.4\n",
              "1  52.8 1898-01-01  3.966511  0.148799     -22.1\n",
              "2  71.6 1899-01-01  4.271095  0.304584      -3.3\n",
              "3  61.4 1900-01-01  4.117410 -0.153685     -13.5\n",
              "4  69.9 1901-01-01  4.247066  0.129656      -5.0"
            ],
            "text/html": [
              "\n",
              "  <div id=\"df-85cf7db3-2c4f-4ae3-9322-5555d3293b9f\">\n",
              "    <div class=\"colab-df-container\">\n",
              "      <div>\n",
              "<style scoped>\n",
              "    .dataframe tbody tr th:only-of-type {\n",
              "        vertical-align: middle;\n",
              "    }\n",
              "\n",
              "    .dataframe tbody tr th {\n",
              "        vertical-align: top;\n",
              "    }\n",
              "\n",
              "    .dataframe thead th {\n",
              "        text-align: right;\n",
              "    }\n",
              "</style>\n",
              "<table border=\"1\" class=\"dataframe\">\n",
              "  <thead>\n",
              "    <tr style=\"text-align: right;\">\n",
              "      <th></th>\n",
              "      <th>dj</th>\n",
              "      <th>year</th>\n",
              "      <th>log_dj</th>\n",
              "      <th>dj_ret</th>\n",
              "      <th>delta_dj</th>\n",
              "    </tr>\n",
              "  </thead>\n",
              "  <tbody>\n",
              "    <tr>\n",
              "      <th>0</th>\n",
              "      <td>45.5</td>\n",
              "      <td>1897-01-01</td>\n",
              "      <td>3.817712</td>\n",
              "      <td>NaN</td>\n",
              "      <td>-29.4</td>\n",
              "    </tr>\n",
              "    <tr>\n",
              "      <th>1</th>\n",
              "      <td>52.8</td>\n",
              "      <td>1898-01-01</td>\n",
              "      <td>3.966511</td>\n",
              "      <td>0.148799</td>\n",
              "      <td>-22.1</td>\n",
              "    </tr>\n",
              "    <tr>\n",
              "      <th>2</th>\n",
              "      <td>71.6</td>\n",
              "      <td>1899-01-01</td>\n",
              "      <td>4.271095</td>\n",
              "      <td>0.304584</td>\n",
              "      <td>-3.3</td>\n",
              "    </tr>\n",
              "    <tr>\n",
              "      <th>3</th>\n",
              "      <td>61.4</td>\n",
              "      <td>1900-01-01</td>\n",
              "      <td>4.117410</td>\n",
              "      <td>-0.153685</td>\n",
              "      <td>-13.5</td>\n",
              "    </tr>\n",
              "    <tr>\n",
              "      <th>4</th>\n",
              "      <td>69.9</td>\n",
              "      <td>1901-01-01</td>\n",
              "      <td>4.247066</td>\n",
              "      <td>0.129656</td>\n",
              "      <td>-5.0</td>\n",
              "    </tr>\n",
              "  </tbody>\n",
              "</table>\n",
              "</div>\n",
              "      <button class=\"colab-df-convert\" onclick=\"convertToInteractive('df-85cf7db3-2c4f-4ae3-9322-5555d3293b9f')\"\n",
              "              title=\"Convert this dataframe to an interactive table.\"\n",
              "              style=\"display:none;\">\n",
              "        \n",
              "  <svg xmlns=\"http://www.w3.org/2000/svg\" height=\"24px\"viewBox=\"0 0 24 24\"\n",
              "       width=\"24px\">\n",
              "    <path d=\"M0 0h24v24H0V0z\" fill=\"none\"/>\n",
              "    <path d=\"M18.56 5.44l.94 2.06.94-2.06 2.06-.94-2.06-.94-.94-2.06-.94 2.06-2.06.94zm-11 1L8.5 8.5l.94-2.06 2.06-.94-2.06-.94L8.5 2.5l-.94 2.06-2.06.94zm10 10l.94 2.06.94-2.06 2.06-.94-2.06-.94-.94-2.06-.94 2.06-2.06.94z\"/><path d=\"M17.41 7.96l-1.37-1.37c-.4-.4-.92-.59-1.43-.59-.52 0-1.04.2-1.43.59L10.3 9.45l-7.72 7.72c-.78.78-.78 2.05 0 2.83L4 21.41c.39.39.9.59 1.41.59.51 0 1.02-.2 1.41-.59l7.78-7.78 2.81-2.81c.8-.78.8-2.07 0-2.86zM5.41 20L4 18.59l7.72-7.72 1.47 1.35L5.41 20z\"/>\n",
              "  </svg>\n",
              "      </button>\n",
              "      \n",
              "  <style>\n",
              "    .colab-df-container {\n",
              "      display:flex;\n",
              "      flex-wrap:wrap;\n",
              "      gap: 12px;\n",
              "    }\n",
              "\n",
              "    .colab-df-convert {\n",
              "      background-color: #E8F0FE;\n",
              "      border: none;\n",
              "      border-radius: 50%;\n",
              "      cursor: pointer;\n",
              "      display: none;\n",
              "      fill: #1967D2;\n",
              "      height: 32px;\n",
              "      padding: 0 0 0 0;\n",
              "      width: 32px;\n",
              "    }\n",
              "\n",
              "    .colab-df-convert:hover {\n",
              "      background-color: #E2EBFA;\n",
              "      box-shadow: 0px 1px 2px rgba(60, 64, 67, 0.3), 0px 1px 3px 1px rgba(60, 64, 67, 0.15);\n",
              "      fill: #174EA6;\n",
              "    }\n",
              "\n",
              "    [theme=dark] .colab-df-convert {\n",
              "      background-color: #3B4455;\n",
              "      fill: #D2E3FC;\n",
              "    }\n",
              "\n",
              "    [theme=dark] .colab-df-convert:hover {\n",
              "      background-color: #434B5C;\n",
              "      box-shadow: 0px 1px 3px 1px rgba(0, 0, 0, 0.15);\n",
              "      filter: drop-shadow(0px 1px 2px rgba(0, 0, 0, 0.3));\n",
              "      fill: #FFFFFF;\n",
              "    }\n",
              "  </style>\n",
              "\n",
              "      <script>\n",
              "        const buttonEl =\n",
              "          document.querySelector('#df-85cf7db3-2c4f-4ae3-9322-5555d3293b9f button.colab-df-convert');\n",
              "        buttonEl.style.display =\n",
              "          google.colab.kernel.accessAllowed ? 'block' : 'none';\n",
              "\n",
              "        async function convertToInteractive(key) {\n",
              "          const element = document.querySelector('#df-85cf7db3-2c4f-4ae3-9322-5555d3293b9f');\n",
              "          const dataTable =\n",
              "            await google.colab.kernel.invokeFunction('convertToInteractive',\n",
              "                                                     [key], {});\n",
              "          if (!dataTable) return;\n",
              "\n",
              "          const docLinkHtml = 'Like what you see? Visit the ' +\n",
              "            '<a target=\"_blank\" href=https://colab.research.google.com/notebooks/data_table.ipynb>data table notebook</a>'\n",
              "            + ' to learn more about interactive tables.';\n",
              "          element.innerHTML = '';\n",
              "          dataTable['output_type'] = 'display_data';\n",
              "          await google.colab.output.renderOutput(dataTable, element);\n",
              "          const docLink = document.createElement('div');\n",
              "          docLink.innerHTML = docLinkHtml;\n",
              "          element.appendChild(docLink);\n",
              "        }\n",
              "      </script>\n",
              "    </div>\n",
              "  </div>\n",
              "  "
            ]
          },
          "metadata": {},
          "execution_count": 113
        }
      ],
      "source": [
        "data.head()"
      ]
    },
    {
      "cell_type": "code",
      "execution_count": null,
      "id": "db0ee218",
      "metadata": {
        "id": "db0ee218",
        "colab": {
          "base_uri": "https://localhost:8080/",
          "height": 313
        },
        "outputId": "e6ea9542-1027-41ea-d7ce-ff423b207f23"
      },
      "outputs": [
        {
          "output_type": "display_data",
          "data": {
            "text/plain": [
              "<Figure size 720x288 with 1 Axes>"
            ],
            "image/png": "[encoded data removed]"
          },
          "metadata": {
            "needs_background": "light"
          }
        }
      ],
      "source": [
        "fig, ax = plt.subplots(figsize=(10, 4), constrained_layout=True)\n",
        "\n",
        "ax.set(title='Dow-Jones')\n",
        "ax.plot(data['year'], data['delta_dj'],'bo')\n",
        "ax.plot(data['year'], np.zeros(len(data['year'])),'r-')\n",
        "ax.xaxis_date()\n",
        "ax.set_xlabel('date')\n",
        "ax.set_ylabel('delta median')\n",
        "\n",
        "ax.xaxis.set_major_formatter(mdates.DateFormatter(\"%Y\"))\n",
        "\n",
        "plt.show()"
      ]
    },
    {
      "cell_type": "markdown",
      "id": "18e799da",
      "metadata": {
        "id": "18e799da"
      },
      "source": [
        "Сколько плюсов, минусов и их серий видно на графике?"
      ]
    },
    {
      "cell_type": "code",
      "execution_count": null,
      "id": "e3d93a9c",
      "metadata": {
        "id": "e3d93a9c"
      },
      "outputs": [],
      "source": [
        "pls = 8\n",
        "mns = 9\n",
        "s_pls = 2\n",
        "s_mns = 2"
      ]
    },
    {
      "cell_type": "markdown",
      "id": "32c29ff7",
      "metadata": {
        "id": "32c29ff7"
      },
      "source": [
        "Сформулируйте нулевую гипотезу и проверьте, отврегается ли она по критерию серий."
      ]
    },
    {
      "cell_type": "code",
      "execution_count": null,
      "id": "906b2e7d",
      "metadata": {
        "id": "906b2e7d"
      },
      "outputs": [],
      "source": [
        "def series_test(p):\n",
        "    \n",
        "    tst = 1\n",
        "    plus = 0\n",
        "    minus = 0\n",
        "    \n",
        "    if (p[0] > np.median(p)):\n",
        "        plus += 1\n",
        "    else:\n",
        "        minus += 1\n",
        "        \n",
        "    for i in range(1, len(p)):\n",
        "        if (p[i] <= np.median(p)):\n",
        "            minus += 1\n",
        "            if (p[i-1] > np.median(p)):\n",
        "                tst += 1\n",
        "        else:\n",
        "            plus += 1\n",
        "            if (p[i-1] <= np.median(p)):\n",
        "                tst += 1\n",
        "                \n",
        "    n = plus + minus            \n",
        "    e_s = 2 * plus * minus / n + 1\n",
        "    d_s = 2 * plus * minus * (2 * plus * minus - n) / (n**2 * (n - 1))\n",
        "    s_stat = (tst - e_s) / np.sqrt(d_s)\n",
        "    #return plus, minus, tst, round(e_s, 3), round(d_s, 3), round(s_stat, 3)\n",
        "    print(' плюсы =', plus,\n",
        "      '\\n минусы =', minus,\n",
        "      '\\n серии =', tst, \n",
        "      '\\n среднее', round(e_s, 3),\n",
        "      '\\n дисперсия', round(d_s, 3),\n",
        "      '\\n статистика', round(s_stat, 3))"
      ]
    },
    {
      "cell_type": "code",
      "execution_count": null,
      "id": "ad907fc3",
      "metadata": {
        "id": "ad907fc3",
        "colab": {
          "base_uri": "https://localhost:8080/"
        },
        "outputId": "0df2a628-9051-4642-86d4-9bf9248a01b9"
      },
      "outputs": [
        {
          "output_type": "stream",
          "name": "stdout",
          "text": [
            " плюсы = 8 \n",
            " минусы = 9 \n",
            " серии = 4 \n",
            " среднее 9.471 \n",
            " дисперсия 3.955 \n",
            " статистика -2.751\n"
          ]
        }
      ],
      "source": [
        "series_test(data['dj'])"
      ]
    },
    {
      "cell_type": "markdown",
      "id": "35248ff6",
      "metadata": {
        "id": "35248ff6"
      },
      "source": [
        "Проделайте аналогичную работу с рядом логарифмических доходностей"
      ]
    },
    {
      "cell_type": "code",
      "execution_count": null,
      "id": "a34e0912",
      "metadata": {
        "id": "a34e0912",
        "colab": {
          "base_uri": "https://localhost:8080/",
          "height": 206
        },
        "outputId": "da61bbf3-ca93-4144-aee7-3241c44ad49b"
      },
      "outputs": [
        {
          "output_type": "execute_result",
          "data": {
            "text/plain": [
              "     dj       year    log_dj    dj_ret  delta_dj  delta_rdj\n",
              "0  45.5 1897-01-01  3.817712       NaN     -29.4        NaN\n",
              "1  52.8 1898-01-01  3.966511  0.148799     -22.1   0.147764\n",
              "2  71.6 1899-01-01  4.271095  0.304584      -3.3   0.303549\n",
              "3  61.4 1900-01-01  4.117410 -0.153685     -13.5  -0.154720\n",
              "4  69.9 1901-01-01  4.247066  0.129656      -5.0   0.128621"
            ],
            "text/html": [
              "\n",
              "  <div id=\"df-4ab8f74b-0c53-4d27-a01d-51d28e4659a3\">\n",
              "    <div class=\"colab-df-container\">\n",
              "      <div>\n",
              "<style scoped>\n",
              "    .dataframe tbody tr th:only-of-type {\n",
              "        vertical-align: middle;\n",
              "    }\n",
              "\n",
              "    .dataframe tbody tr th {\n",
              "        vertical-align: top;\n",
              "    }\n",
              "\n",
              "    .dataframe thead th {\n",
              "        text-align: right;\n",
              "    }\n",
              "</style>\n",
              "<table border=\"1\" class=\"dataframe\">\n",
              "  <thead>\n",
              "    <tr style=\"text-align: right;\">\n",
              "      <th></th>\n",
              "      <th>dj</th>\n",
              "      <th>year</th>\n",
              "      <th>log_dj</th>\n",
              "      <th>dj_ret</th>\n",
              "      <th>delta_dj</th>\n",
              "      <th>delta_rdj</th>\n",
              "    </tr>\n",
              "  </thead>\n",
              "  <tbody>\n",
              "    <tr>\n",
              "      <th>0</th>\n",
              "      <td>45.5</td>\n",
              "      <td>1897-01-01</td>\n",
              "      <td>3.817712</td>\n",
              "      <td>NaN</td>\n",
              "      <td>-29.4</td>\n",
              "      <td>NaN</td>\n",
              "    </tr>\n",
              "    <tr>\n",
              "      <th>1</th>\n",
              "      <td>52.8</td>\n",
              "      <td>1898-01-01</td>\n",
              "      <td>3.966511</td>\n",
              "      <td>0.148799</td>\n",
              "      <td>-22.1</td>\n",
              "      <td>0.147764</td>\n",
              "    </tr>\n",
              "    <tr>\n",
              "      <th>2</th>\n",
              "      <td>71.6</td>\n",
              "      <td>1899-01-01</td>\n",
              "      <td>4.271095</td>\n",
              "      <td>0.304584</td>\n",
              "      <td>-3.3</td>\n",
              "      <td>0.303549</td>\n",
              "    </tr>\n",
              "    <tr>\n",
              "      <th>3</th>\n",
              "      <td>61.4</td>\n",
              "      <td>1900-01-01</td>\n",
              "      <td>4.117410</td>\n",
              "      <td>-0.153685</td>\n",
              "      <td>-13.5</td>\n",
              "      <td>-0.154720</td>\n",
              "    </tr>\n",
              "    <tr>\n",
              "      <th>4</th>\n",
              "      <td>69.9</td>\n",
              "      <td>1901-01-01</td>\n",
              "      <td>4.247066</td>\n",
              "      <td>0.129656</td>\n",
              "      <td>-5.0</td>\n",
              "      <td>0.128621</td>\n",
              "    </tr>\n",
              "  </tbody>\n",
              "</table>\n",
              "</div>\n",
              "      <button class=\"colab-df-convert\" onclick=\"convertToInteractive('df-4ab8f74b-0c53-4d27-a01d-51d28e4659a3')\"\n",
              "              title=\"Convert this dataframe to an interactive table.\"\n",
              "              style=\"display:none;\">\n",
              "        \n",
              "  <svg xmlns=\"http://www.w3.org/2000/svg\" height=\"24px\"viewBox=\"0 0 24 24\"\n",
              "       width=\"24px\">\n",
              "    <path d=\"M0 0h24v24H0V0z\" fill=\"none\"/>\n",
              "    <path d=\"M18.56 5.44l.94 2.06.94-2.06 2.06-.94-2.06-.94-.94-2.06-.94 2.06-2.06.94zm-11 1L8.5 8.5l.94-2.06 2.06-.94-2.06-.94L8.5 2.5l-.94 2.06-2.06.94zm10 10l.94 2.06.94-2.06 2.06-.94-2.06-.94-.94-2.06-.94 2.06-2.06.94z\"/><path d=\"M17.41 7.96l-1.37-1.37c-.4-.4-.92-.59-1.43-.59-.52 0-1.04.2-1.43.59L10.3 9.45l-7.72 7.72c-.78.78-.78 2.05 0 2.83L4 21.41c.39.39.9.59 1.41.59.51 0 1.02-.2 1.41-.59l7.78-7.78 2.81-2.81c.8-.78.8-2.07 0-2.86zM5.41 20L4 18.59l7.72-7.72 1.47 1.35L5.41 20z\"/>\n",
              "  </svg>\n",
              "      </button>\n",
              "      \n",
              "  <style>\n",
              "    .colab-df-container {\n",
              "      display:flex;\n",
              "      flex-wrap:wrap;\n",
              "      gap: 12px;\n",
              "    }\n",
              "\n",
              "    .colab-df-convert {\n",
              "      background-color: #E8F0FE;\n",
              "      border: none;\n",
              "      border-radius: 50%;\n",
              "      cursor: pointer;\n",
              "      display: none;\n",
              "      fill: #1967D2;\n",
              "      height: 32px;\n",
              "      padding: 0 0 0 0;\n",
              "      width: 32px;\n",
              "    }\n",
              "\n",
              "    .colab-df-convert:hover {\n",
              "      background-color: #E2EBFA;\n",
              "      box-shadow: 0px 1px 2px rgba(60, 64, 67, 0.3), 0px 1px 3px 1px rgba(60, 64, 67, 0.15);\n",
              "      fill: #174EA6;\n",
              "    }\n",
              "\n",
              "    [theme=dark] .colab-df-convert {\n",
              "      background-color: #3B4455;\n",
              "      fill: #D2E3FC;\n",
              "    }\n",
              "\n",
              "    [theme=dark] .colab-df-convert:hover {\n",
              "      background-color: #434B5C;\n",
              "      box-shadow: 0px 1px 3px 1px rgba(0, 0, 0, 0.15);\n",
              "      filter: drop-shadow(0px 1px 2px rgba(0, 0, 0, 0.3));\n",
              "      fill: #FFFFFF;\n",
              "    }\n",
              "  </style>\n",
              "\n",
              "      <script>\n",
              "        const buttonEl =\n",
              "          document.querySelector('#df-4ab8f74b-0c53-4d27-a01d-51d28e4659a3 button.colab-df-convert');\n",
              "        buttonEl.style.display =\n",
              "          google.colab.kernel.accessAllowed ? 'block' : 'none';\n",
              "\n",
              "        async function convertToInteractive(key) {\n",
              "          const element = document.querySelector('#df-4ab8f74b-0c53-4d27-a01d-51d28e4659a3');\n",
              "          const dataTable =\n",
              "            await google.colab.kernel.invokeFunction('convertToInteractive',\n",
              "                                                     [key], {});\n",
              "          if (!dataTable) return;\n",
              "\n",
              "          const docLinkHtml = 'Like what you see? Visit the ' +\n",
              "            '<a target=\"_blank\" href=https://colab.research.google.com/notebooks/data_table.ipynb>data table notebook</a>'\n",
              "            + ' to learn more about interactive tables.';\n",
              "          element.innerHTML = '';\n",
              "          dataTable['output_type'] = 'display_data';\n",
              "          await google.colab.output.renderOutput(dataTable, element);\n",
              "          const docLink = document.createElement('div');\n",
              "          docLink.innerHTML = docLinkHtml;\n",
              "          element.appendChild(docLink);\n",
              "        }\n",
              "      </script>\n",
              "    </div>\n",
              "  </div>\n",
              "  "
            ]
          },
          "metadata": {},
          "execution_count": 118
        }
      ],
      "source": [
        "data['delta_rdj'] =  data['dj_ret'] - data['dj_ret'].median()\n",
        "data.head(5)"
      ]
    },
    {
      "cell_type": "code",
      "execution_count": null,
      "id": "fcb85505",
      "metadata": {
        "id": "fcb85505",
        "colab": {
          "base_uri": "https://localhost:8080/",
          "height": 313
        },
        "outputId": "84cb1d4b-c3e5-4956-b142-f99a8280ba0b"
      },
      "outputs": [
        {
          "output_type": "display_data",
          "data": {
            "text/plain": [
              "<Figure size 720x288 with 1 Axes>"
            ],
            "image/png": "[encoded data removed]"
          },
          "metadata": {
            "needs_background": "light"
          }
        }
      ],
      "source": [
        "fig, ax = plt.subplots(figsize=(10, 4), constrained_layout=True)\n",
        "\n",
        "ax.set(title='Dow-Jones')\n",
        "ax.plot(data['year'], data['delta_rdj'],'bo')\n",
        "ax.plot(data['year'], np.zeros(len(data['year'])),'r-')\n",
        "ax.xaxis_date()\n",
        "ax.set_xlabel('date')\n",
        "ax.set_ylabel('delta return / median')\n",
        "\n",
        "ax.xaxis.set_major_formatter(mdates.DateFormatter(\"%Y\"))\n",
        "\n",
        "plt.show()"
      ]
    },
    {
      "cell_type": "code",
      "execution_count": null,
      "id": "f6e49958",
      "metadata": {
        "id": "f6e49958",
        "colab": {
          "base_uri": "https://localhost:8080/"
        },
        "outputId": "4354ca54-351e-4d9b-902f-7b2ecba9a3dd"
      },
      "outputs": [
        {
          "output_type": "stream",
          "name": "stdout",
          "text": [
            " плюсы = 8 \n",
            " минусы = 8 \n",
            " серии = 10 \n",
            " среднее 9.0 \n",
            " дисперсия 3.733 \n",
            " статистика 0.518\n"
          ]
        }
      ],
      "source": [
        "series_test(data['delta_rdj'].dropna().values)"
      ]
    },
    {
      "cell_type": "markdown",
      "id": "26fcf28c",
      "metadata": {
        "id": "26fcf28c"
      },
      "source": [
        "Сформулируйте нулевую гипотезу и проверьте, отврегается ли она по критерию серий для ряда доходностей."
      ]
    },
    {
      "cell_type": "markdown",
      "id": "33fd1464",
      "metadata": {
        "id": "33fd1464"
      },
      "source": [
        "## Задача 2а\n",
        "\n",
        "В файле dj_1984_daily приведены дневные данные по индексу Доу-Джонса за период с 28 февраля по 31 декабря 1984 года. "
      ]
    },
    {
      "cell_type": "code",
      "execution_count": null,
      "id": "3d89689c",
      "metadata": {
        "id": "3d89689c"
      },
      "outputs": [],
      "source": [
        "data = pd.read_stata('dj_1984_daily.dta')"
      ]
    },
    {
      "cell_type": "code",
      "execution_count": null,
      "id": "a1e572de",
      "metadata": {
        "id": "a1e572de",
        "colab": {
          "base_uri": "https://localhost:8080/",
          "height": 206
        },
        "outputId": "5e79fcfd-8093-438a-9cc1-ebc13d573856"
      },
      "outputs": [
        {
          "output_type": "execute_result",
          "data": {
            "text/plain": [
              "            dj    dj_ret\n",
              "0  1157.140015       NaN\n",
              "1  1154.630005 -0.002171\n",
              "2  1159.439941  0.004157\n",
              "3  1171.479980  0.010331\n",
              "4  1165.199951 -0.005375"
            ],
            "text/html": [
              "\n",
              "  <div id=\"df-da879a1a-ba72-4d1e-a137-cb74b091eb2b\">\n",
              "    <div class=\"colab-df-container\">\n",
              "      <div>\n",
              "<style scoped>\n",
              "    .dataframe tbody tr th:only-of-type {\n",
              "        vertical-align: middle;\n",
              "    }\n",
              "\n",
              "    .dataframe tbody tr th {\n",
              "        vertical-align: top;\n",
              "    }\n",
              "\n",
              "    .dataframe thead th {\n",
              "        text-align: right;\n",
              "    }\n",
              "</style>\n",
              "<table border=\"1\" class=\"dataframe\">\n",
              "  <thead>\n",
              "    <tr style=\"text-align: right;\">\n",
              "      <th></th>\n",
              "      <th>dj</th>\n",
              "      <th>dj_ret</th>\n",
              "    </tr>\n",
              "  </thead>\n",
              "  <tbody>\n",
              "    <tr>\n",
              "      <th>0</th>\n",
              "      <td>1157.140015</td>\n",
              "      <td>NaN</td>\n",
              "    </tr>\n",
              "    <tr>\n",
              "      <th>1</th>\n",
              "      <td>1154.630005</td>\n",
              "      <td>-0.002171</td>\n",
              "    </tr>\n",
              "    <tr>\n",
              "      <th>2</th>\n",
              "      <td>1159.439941</td>\n",
              "      <td>0.004157</td>\n",
              "    </tr>\n",
              "    <tr>\n",
              "      <th>3</th>\n",
              "      <td>1171.479980</td>\n",
              "      <td>0.010331</td>\n",
              "    </tr>\n",
              "    <tr>\n",
              "      <th>4</th>\n",
              "      <td>1165.199951</td>\n",
              "      <td>-0.005375</td>\n",
              "    </tr>\n",
              "  </tbody>\n",
              "</table>\n",
              "</div>\n",
              "      <button class=\"colab-df-convert\" onclick=\"convertToInteractive('df-da879a1a-ba72-4d1e-a137-cb74b091eb2b')\"\n",
              "              title=\"Convert this dataframe to an interactive table.\"\n",
              "              style=\"display:none;\">\n",
              "        \n",
              "  <svg xmlns=\"http://www.w3.org/2000/svg\" height=\"24px\"viewBox=\"0 0 24 24\"\n",
              "       width=\"24px\">\n",
              "    <path d=\"M0 0h24v24H0V0z\" fill=\"none\"/>\n",
              "    <path d=\"M18.56 5.44l.94 2.06.94-2.06 2.06-.94-2.06-.94-.94-2.06-.94 2.06-2.06.94zm-11 1L8.5 8.5l.94-2.06 2.06-.94-2.06-.94L8.5 2.5l-.94 2.06-2.06.94zm10 10l.94 2.06.94-2.06 2.06-.94-2.06-.94-.94-2.06-.94 2.06-2.06.94z\"/><path d=\"M17.41 7.96l-1.37-1.37c-.4-.4-.92-.59-1.43-.59-.52 0-1.04.2-1.43.59L10.3 9.45l-7.72 7.72c-.78.78-.78 2.05 0 2.83L4 21.41c.39.39.9.59 1.41.59.51 0 1.02-.2 1.41-.59l7.78-7.78 2.81-2.81c.8-.78.8-2.07 0-2.86zM5.41 20L4 18.59l7.72-7.72 1.47 1.35L5.41 20z\"/>\n",
              "  </svg>\n",
              "      </button>\n",
              "      \n",
              "  <style>\n",
              "    .colab-df-container {\n",
              "      display:flex;\n",
              "      flex-wrap:wrap;\n",
              "      gap: 12px;\n",
              "    }\n",
              "\n",
              "    .colab-df-convert {\n",
              "      background-color: #E8F0FE;\n",
              "      border: none;\n",
              "      border-radius: 50%;\n",
              "      cursor: pointer;\n",
              "      display: none;\n",
              "      fill: #1967D2;\n",
              "      height: 32px;\n",
              "      padding: 0 0 0 0;\n",
              "      width: 32px;\n",
              "    }\n",
              "\n",
              "    .colab-df-convert:hover {\n",
              "      background-color: #E2EBFA;\n",
              "      box-shadow: 0px 1px 2px rgba(60, 64, 67, 0.3), 0px 1px 3px 1px rgba(60, 64, 67, 0.15);\n",
              "      fill: #174EA6;\n",
              "    }\n",
              "\n",
              "    [theme=dark] .colab-df-convert {\n",
              "      background-color: #3B4455;\n",
              "      fill: #D2E3FC;\n",
              "    }\n",
              "\n",
              "    [theme=dark] .colab-df-convert:hover {\n",
              "      background-color: #434B5C;\n",
              "      box-shadow: 0px 1px 3px 1px rgba(0, 0, 0, 0.15);\n",
              "      filter: drop-shadow(0px 1px 2px rgba(0, 0, 0, 0.3));\n",
              "      fill: #FFFFFF;\n",
              "    }\n",
              "  </style>\n",
              "\n",
              "      <script>\n",
              "        const buttonEl =\n",
              "          document.querySelector('#df-da879a1a-ba72-4d1e-a137-cb74b091eb2b button.colab-df-convert');\n",
              "        buttonEl.style.display =\n",
              "          google.colab.kernel.accessAllowed ? 'block' : 'none';\n",
              "\n",
              "        async function convertToInteractive(key) {\n",
              "          const element = document.querySelector('#df-da879a1a-ba72-4d1e-a137-cb74b091eb2b');\n",
              "          const dataTable =\n",
              "            await google.colab.kernel.invokeFunction('convertToInteractive',\n",
              "                                                     [key], {});\n",
              "          if (!dataTable) return;\n",
              "\n",
              "          const docLinkHtml = 'Like what you see? Visit the ' +\n",
              "            '<a target=\"_blank\" href=https://colab.research.google.com/notebooks/data_table.ipynb>data table notebook</a>'\n",
              "            + ' to learn more about interactive tables.';\n",
              "          element.innerHTML = '';\n",
              "          dataTable['output_type'] = 'display_data';\n",
              "          await google.colab.output.renderOutput(dataTable, element);\n",
              "          const docLink = document.createElement('div');\n",
              "          docLink.innerHTML = docLinkHtml;\n",
              "          element.appendChild(docLink);\n",
              "        }\n",
              "      </script>\n",
              "    </div>\n",
              "  </div>\n",
              "  "
            ]
          },
          "metadata": {},
          "execution_count": 128
        }
      ],
      "source": [
        "data.head(5)"
      ]
    },
    {
      "cell_type": "markdown",
      "id": "d1fe3d91",
      "metadata": {
        "id": "d1fe3d91"
      },
      "source": [
        "В соответствии с торговыми днями на американской бирже превратим данные во временные ряды"
      ]
    },
    {
      "cell_type": "code",
      "execution_count": null,
      "id": "9d21b504",
      "metadata": {
        "id": "9d21b504",
        "colab": {
          "base_uri": "https://localhost:8080/",
          "height": 423
        },
        "outputId": "89766962-42dc-4e16-c989-942c3106d75b"
      },
      "outputs": [
        {
          "output_type": "execute_result",
          "data": {
            "text/plain": [
              "              dj    dj_ret                      date\n",
              "0    1157.140015       NaN 1984-02-28 21:00:00+00:00\n",
              "1    1154.630005 -0.002171 1984-02-29 21:00:00+00:00\n",
              "2    1159.439941  0.004157 1984-03-01 21:00:00+00:00\n",
              "3    1171.479980  0.010331 1984-03-02 21:00:00+00:00\n",
              "4    1165.199951 -0.005375 1984-03-05 21:00:00+00:00\n",
              "..           ...       ...                       ...\n",
              "209  1210.140015  0.009265 1984-12-24 21:00:00+00:00\n",
              "210  1208.920044 -0.001009 1984-12-26 21:00:00+00:00\n",
              "211  1202.520020 -0.005308 1984-12-27 21:00:00+00:00\n",
              "212  1204.170044  0.001371 1984-12-28 21:00:00+00:00\n",
              "213  1211.569946  0.006127 1984-12-31 21:00:00+00:00\n",
              "\n",
              "[214 rows x 3 columns]"
            ],
            "text/html": [
              "\n",
              "  <div id=\"df-c3b228d0-9d55-442c-8236-244bec4a7084\">\n",
              "    <div class=\"colab-df-container\">\n",
              "      <div>\n",
              "<style scoped>\n",
              "    .dataframe tbody tr th:only-of-type {\n",
              "        vertical-align: middle;\n",
              "    }\n",
              "\n",
              "    .dataframe tbody tr th {\n",
              "        vertical-align: top;\n",
              "    }\n",
              "\n",
              "    .dataframe thead th {\n",
              "        text-align: right;\n",
              "    }\n",
              "</style>\n",
              "<table border=\"1\" class=\"dataframe\">\n",
              "  <thead>\n",
              "    <tr style=\"text-align: right;\">\n",
              "      <th></th>\n",
              "      <th>dj</th>\n",
              "      <th>dj_ret</th>\n",
              "      <th>date</th>\n",
              "    </tr>\n",
              "  </thead>\n",
              "  <tbody>\n",
              "    <tr>\n",
              "      <th>0</th>\n",
              "      <td>1157.140015</td>\n",
              "      <td>NaN</td>\n",
              "      <td>1984-02-28 21:00:00+00:00</td>\n",
              "    </tr>\n",
              "    <tr>\n",
              "      <th>1</th>\n",
              "      <td>1154.630005</td>\n",
              "      <td>-0.002171</td>\n",
              "      <td>1984-02-29 21:00:00+00:00</td>\n",
              "    </tr>\n",
              "    <tr>\n",
              "      <th>2</th>\n",
              "      <td>1159.439941</td>\n",
              "      <td>0.004157</td>\n",
              "      <td>1984-03-01 21:00:00+00:00</td>\n",
              "    </tr>\n",
              "    <tr>\n",
              "      <th>3</th>\n",
              "      <td>1171.479980</td>\n",
              "      <td>0.010331</td>\n",
              "      <td>1984-03-02 21:00:00+00:00</td>\n",
              "    </tr>\n",
              "    <tr>\n",
              "      <th>4</th>\n",
              "      <td>1165.199951</td>\n",
              "      <td>-0.005375</td>\n",
              "      <td>1984-03-05 21:00:00+00:00</td>\n",
              "    </tr>\n",
              "    <tr>\n",
              "      <th>...</th>\n",
              "      <td>...</td>\n",
              "      <td>...</td>\n",
              "      <td>...</td>\n",
              "    </tr>\n",
              "    <tr>\n",
              "      <th>209</th>\n",
              "      <td>1210.140015</td>\n",
              "      <td>0.009265</td>\n",
              "      <td>1984-12-24 21:00:00+00:00</td>\n",
              "    </tr>\n",
              "    <tr>\n",
              "      <th>210</th>\n",
              "      <td>1208.920044</td>\n",
              "      <td>-0.001009</td>\n",
              "      <td>1984-12-26 21:00:00+00:00</td>\n",
              "    </tr>\n",
              "    <tr>\n",
              "      <th>211</th>\n",
              "      <td>1202.520020</td>\n",
              "      <td>-0.005308</td>\n",
              "      <td>1984-12-27 21:00:00+00:00</td>\n",
              "    </tr>\n",
              "    <tr>\n",
              "      <th>212</th>\n",
              "      <td>1204.170044</td>\n",
              "      <td>0.001371</td>\n",
              "      <td>1984-12-28 21:00:00+00:00</td>\n",
              "    </tr>\n",
              "    <tr>\n",
              "      <th>213</th>\n",
              "      <td>1211.569946</td>\n",
              "      <td>0.006127</td>\n",
              "      <td>1984-12-31 21:00:00+00:00</td>\n",
              "    </tr>\n",
              "  </tbody>\n",
              "</table>\n",
              "<p>214 rows × 3 columns</p>\n",
              "</div>\n",
              "      <button class=\"colab-df-convert\" onclick=\"convertToInteractive('df-c3b228d0-9d55-442c-8236-244bec4a7084')\"\n",
              "              title=\"Convert this dataframe to an interactive table.\"\n",
              "              style=\"display:none;\">\n",
              "        \n",
              "  <svg xmlns=\"http://www.w3.org/2000/svg\" height=\"24px\"viewBox=\"0 0 24 24\"\n",
              "       width=\"24px\">\n",
              "    <path d=\"M0 0h24v24H0V0z\" fill=\"none\"/>\n",
              "    <path d=\"M18.56 5.44l.94 2.06.94-2.06 2.06-.94-2.06-.94-.94-2.06-.94 2.06-2.06.94zm-11 1L8.5 8.5l.94-2.06 2.06-.94-2.06-.94L8.5 2.5l-.94 2.06-2.06.94zm10 10l.94 2.06.94-2.06 2.06-.94-2.06-.94-.94-2.06-.94 2.06-2.06.94z\"/><path d=\"M17.41 7.96l-1.37-1.37c-.4-.4-.92-.59-1.43-.59-.52 0-1.04.2-1.43.59L10.3 9.45l-7.72 7.72c-.78.78-.78 2.05 0 2.83L4 21.41c.39.39.9.59 1.41.59.51 0 1.02-.2 1.41-.59l7.78-7.78 2.81-2.81c.8-.78.8-2.07 0-2.86zM5.41 20L4 18.59l7.72-7.72 1.47 1.35L5.41 20z\"/>\n",
              "  </svg>\n",
              "      </button>\n",
              "      \n",
              "  <style>\n",
              "    .colab-df-container {\n",
              "      display:flex;\n",
              "      flex-wrap:wrap;\n",
              "      gap: 12px;\n",
              "    }\n",
              "\n",
              "    .colab-df-convert {\n",
              "      background-color: #E8F0FE;\n",
              "      border: none;\n",
              "      border-radius: 50%;\n",
              "      cursor: pointer;\n",
              "      display: none;\n",
              "      fill: #1967D2;\n",
              "      height: 32px;\n",
              "      padding: 0 0 0 0;\n",
              "      width: 32px;\n",
              "    }\n",
              "\n",
              "    .colab-df-convert:hover {\n",
              "      background-color: #E2EBFA;\n",
              "      box-shadow: 0px 1px 2px rgba(60, 64, 67, 0.3), 0px 1px 3px 1px rgba(60, 64, 67, 0.15);\n",
              "      fill: #174EA6;\n",
              "    }\n",
              "\n",
              "    [theme=dark] .colab-df-convert {\n",
              "      background-color: #3B4455;\n",
              "      fill: #D2E3FC;\n",
              "    }\n",
              "\n",
              "    [theme=dark] .colab-df-convert:hover {\n",
              "      background-color: #434B5C;\n",
              "      box-shadow: 0px 1px 3px 1px rgba(0, 0, 0, 0.15);\n",
              "      filter: drop-shadow(0px 1px 2px rgba(0, 0, 0, 0.3));\n",
              "      fill: #FFFFFF;\n",
              "    }\n",
              "  </style>\n",
              "\n",
              "      <script>\n",
              "        const buttonEl =\n",
              "          document.querySelector('#df-c3b228d0-9d55-442c-8236-244bec4a7084 button.colab-df-convert');\n",
              "        buttonEl.style.display =\n",
              "          google.colab.kernel.accessAllowed ? 'block' : 'none';\n",
              "\n",
              "        async function convertToInteractive(key) {\n",
              "          const element = document.querySelector('#df-c3b228d0-9d55-442c-8236-244bec4a7084');\n",
              "          const dataTable =\n",
              "            await google.colab.kernel.invokeFunction('convertToInteractive',\n",
              "                                                     [key], {});\n",
              "          if (!dataTable) return;\n",
              "\n",
              "          const docLinkHtml = 'Like what you see? Visit the ' +\n",
              "            '<a target=\"_blank\" href=https://colab.research.google.com/notebooks/data_table.ipynb>data table notebook</a>'\n",
              "            + ' to learn more about interactive tables.';\n",
              "          element.innerHTML = '';\n",
              "          dataTable['output_type'] = 'display_data';\n",
              "          await google.colab.output.renderOutput(dataTable, element);\n",
              "          const docLink = document.createElement('div');\n",
              "          docLink.innerHTML = docLinkHtml;\n",
              "          element.appendChild(docLink);\n",
              "        }\n",
              "      </script>\n",
              "    </div>\n",
              "  </div>\n",
              "  "
            ]
          },
          "metadata": {},
          "execution_count": 129
        }
      ],
      "source": [
        "trad_dat = mcal.get_calendar('NYSE').schedule(start_date = '1984-02-28', end_date = '1984-12-31')\n",
        "dates = mcal.date_range(trad_dat, frequency='1D')\n",
        "data['date'] = dates\n",
        "data"
      ]
    },
    {
      "cell_type": "markdown",
      "id": "28219fcb",
      "metadata": {
        "id": "28219fcb"
      },
      "source": [
        "Изобразите графически дневной индекс"
      ]
    },
    {
      "cell_type": "code",
      "execution_count": null,
      "id": "225b86c6",
      "metadata": {
        "id": "225b86c6",
        "colab": {
          "base_uri": "https://localhost:8080/",
          "height": 313
        },
        "outputId": "86c4bb14-bfd0-42dd-967e-4564dc2dabc1"
      },
      "outputs": [
        {
          "output_type": "display_data",
          "data": {
            "text/plain": [
              "<Figure size 720x288 with 1 Axes>"
            ],
            "image/png": "[encoded data removed]"
          },
          "metadata": {
            "needs_background": "light"
          }
        }
      ],
      "source": [
        "fig, ax = plt.subplots(figsize=(10, 4), constrained_layout=True)\n",
        "\n",
        "ax.set(title='Dow-Jones')\n",
        "ax.plot(data['date'], data['dj'],'b-')\n",
        "ax.xaxis_date()\n",
        "ax.set_xlabel('date')\n",
        "ax.set_ylabel('index')\n",
        "\n",
        "ax.xaxis.set_major_formatter(mdates.DateFormatter(\"%D\"))\n",
        "\n",
        "plt.show()"
      ]
    },
    {
      "cell_type": "markdown",
      "id": "dfe4919d",
      "metadata": {
        "id": "dfe4919d"
      },
      "source": [
        "Можно выделить две части ряда: с 28 февраля по 7 июля, с 6 августа по 31 декабря"
      ]
    },
    {
      "cell_type": "code",
      "execution_count": null,
      "id": "1f3a7551",
      "metadata": {
        "id": "1f3a7551"
      },
      "outputs": [],
      "source": [
        "range_1 = (data['date'] >= '1984-02-28') & (data['date'] <= '1984-07-07')\n",
        "range_2 = (data['date'] >= '1984-08-06') "
      ]
    },
    {
      "cell_type": "markdown",
      "id": "5e34d167",
      "metadata": {
        "id": "5e34d167"
      },
      "source": [
        "Разбейте датасет на два указанных периода.\n",
        "\n",
        "На первом периоде имеется выраженная понижательная тенденция, которая может быть замечена критерием Кендалла. \n",
        "\n",
        "На втором периоде такой понижательной тенденции нет, поэтому здесь скорее подойдет критерий серий, обнаруживающий наличие автокоррелированности наблюдений."
      ]
    },
    {
      "cell_type": "code",
      "execution_count": null,
      "id": "e684ae18",
      "metadata": {
        "id": "e684ae18"
      },
      "outputs": [],
      "source": [
        "ts_1 = data[range_1]\n",
        "ts_2 = data[range_2].reset_index()"
      ]
    },
    {
      "cell_type": "markdown",
      "id": "15d40e31",
      "metadata": {
        "id": "15d40e31"
      },
      "source": [
        "Сначала рассмотрите период 28.02-7.06. Проверьте гипотезу случайности для ряда значений индекса на этом периоде, используя критерий Кендалла. "
      ]
    },
    {
      "cell_type": "code",
      "execution_count": null,
      "id": "1926ff6b",
      "metadata": {
        "id": "1926ff6b",
        "colab": {
          "base_uri": "https://localhost:8080/",
          "height": 313
        },
        "outputId": "604c8f40-4f05-4114-cf55-344f79b02016"
      },
      "outputs": [
        {
          "output_type": "display_data",
          "data": {
            "text/plain": [
              "<Figure size 720x288 with 1 Axes>"
            ],
            "image/png": "[encoded data removed]"
          },
          "metadata": {
            "needs_background": "light"
          }
        }
      ],
      "source": [
        "fig, ax = plt.subplots(figsize=(10, 4), constrained_layout=True)\n",
        "\n",
        "ax.set(title='Dow-Jones 1')\n",
        "ax.plot(ts_1['date'], ts_1['dj'],'b-')\n",
        "ax.xaxis_date()\n",
        "ax.set_xlabel('date')\n",
        "ax.set_ylabel('index')\n",
        "\n",
        "ax.xaxis.set_major_formatter(mdates.DateFormatter(\"%D\"))\n",
        "\n",
        "plt.show()"
      ]
    },
    {
      "cell_type": "code",
      "execution_count": null,
      "id": "36d1cd9f",
      "metadata": {
        "id": "36d1cd9f",
        "colab": {
          "base_uri": "https://localhost:8080/"
        },
        "outputId": "4356df36-30bd-47c2-f95b-2f4cb01adc58"
      },
      "outputs": [
        {
          "output_type": "stream",
          "name": "stdout",
          "text": [
            " p-value 0.0 \n",
            " тау Кендалла = -0.416 \n",
            " стандартизированная тау = -5.835\n"
          ]
        }
      ],
      "source": [
        "results = mk.original_test(ts_1['dj'])\n",
        "\n",
        "print(' p-value', round(results.p, 3),\n",
        "      '\\n тау Кендалла =', round(results.Tau, 3),\n",
        "      '\\n стандартизированная тау =', round(results.z, 3))"
      ]
    },
    {
      "cell_type": "markdown",
      "id": "8730d6c1",
      "metadata": {
        "id": "8730d6c1"
      },
      "source": [
        "Проверьте гипотезу случайности второго ряда, используя критерий серий"
      ]
    },
    {
      "cell_type": "code",
      "execution_count": null,
      "id": "12fe24de",
      "metadata": {
        "id": "12fe24de",
        "colab": {
          "base_uri": "https://localhost:8080/",
          "height": 313
        },
        "outputId": "55639813-34b9-4de4-f93c-4a7941b4f691"
      },
      "outputs": [
        {
          "output_type": "display_data",
          "data": {
            "text/plain": [
              "<Figure size 720x288 with 1 Axes>"
            ],
            "image/png": "[encoded data removed]"
          },
          "metadata": {
            "needs_background": "light"
          }
        }
      ],
      "source": [
        "ts_2['delta_dj'] = ts_2['dj'] - ts_2['dj'].median()\n",
        "fig, ax = plt.subplots(figsize=(10, 4), constrained_layout=True)\n",
        "\n",
        "ax.set(title='Dow-Jones 2')\n",
        "ax.plot(ts_2['date'], ts_2['delta_dj'],'bo')\n",
        "ax.plot(ts_2['date'], np.zeros(len(ts_2['date'])),'r-')\n",
        "ax.xaxis_date()\n",
        "ax.set_xlabel('date')\n",
        "ax.set_ylabel('index')\n",
        "\n",
        "ax.xaxis.set_major_formatter(mdates.DateFormatter(\"%D\"))\n",
        "\n",
        "plt.show()"
      ]
    },
    {
      "cell_type": "code",
      "execution_count": null,
      "id": "6d05acbb",
      "metadata": {
        "id": "6d05acbb",
        "colab": {
          "base_uri": "https://localhost:8080/"
        },
        "outputId": "afe8e7ed-c5b9-4d6b-eb28-651d08828a00"
      },
      "outputs": [
        {
          "output_type": "stream",
          "name": "stdout",
          "text": [
            " плюсы = 50 \n",
            " минусы = 53 \n",
            " серии = 22 \n",
            " среднее 52.456 \n",
            " дисперсия 25.454 \n",
            " статистика -6.037\n"
          ]
        }
      ],
      "source": [
        "series_test(ts_2['dj'])"
      ]
    },
    {
      "cell_type": "markdown",
      "id": "2db58e1d",
      "metadata": {
        "id": "2db58e1d"
      },
      "source": [
        "Отвергается ли гипотеза случайности?"
      ]
    },
    {
      "cell_type": "markdown",
      "id": "91abf44b",
      "metadata": {
        "id": "91abf44b"
      },
      "source": [
        "Проверьте гипотезу случайности второго ряда, используя критерий поворотных точек"
      ]
    },
    {
      "cell_type": "code",
      "execution_count": null,
      "id": "4fac2870",
      "metadata": {
        "id": "4fac2870",
        "colab": {
          "base_uri": "https://localhost:8080/"
        },
        "outputId": "97c62e5e-0db7-4c7c-fcd2-802a3cbba5bb"
      },
      "outputs": [
        {
          "output_type": "stream",
          "name": "stdout",
          "text": [
            " # наблюдений = 103 \n",
            " пики = 26 \n",
            " впадины = 26 \n",
            " поворотные точки = 52 \n",
            " среднее 67.333 \n",
            " дисперсия 17.989 \n",
            " статистика -3.615\n"
          ]
        }
      ],
      "source": [
        "turning_points_test(ts_2['dj'])"
      ]
    },
    {
      "cell_type": "markdown",
      "id": "0bd341db",
      "metadata": {
        "id": "0bd341db"
      },
      "source": [
        "Отвергается ли гипотеза случайности?"
      ]
    },
    {
      "cell_type": "markdown",
      "id": "b4a337e1",
      "metadata": {
        "id": "b4a337e1"
      },
      "source": [
        "## Задача 2б\n",
        "\n",
        "Проверьте гипотезу случайности для ряда значений логарифмической доходности индекса, определяемой как изменение логарифма индекса от сессии к сессии:"
      ]
    },
    {
      "cell_type": "code",
      "execution_count": null,
      "id": "c8352f3d",
      "metadata": {
        "id": "c8352f3d",
        "colab": {
          "base_uri": "https://localhost:8080/",
          "height": 313
        },
        "outputId": "a6d0b624-f48a-4606-ffe9-29e936d4af63"
      },
      "outputs": [
        {
          "output_type": "display_data",
          "data": {
            "text/plain": [
              "<Figure size 720x288 with 1 Axes>"
            ],
            "image/png": "[encoded data removed]"
          },
          "metadata": {
            "needs_background": "light"
          }
        }
      ],
      "source": [
        "fig, ax = plt.subplots(figsize=(10, 4), constrained_layout=True)\n",
        "\n",
        "ax.set(title='Dow-Jones 2')\n",
        "ax.plot(ts_2['date'], ts_2['dj_ret'],'b-')\n",
        "ax.plot(ts_2['date'], np.zeros(len(ts_2['date'])),'r-')\n",
        "ax.xaxis_date()\n",
        "ax.set_xlabel('date')\n",
        "ax.set_ylabel('return')\n",
        "\n",
        "ax.xaxis.set_major_formatter(mdates.DateFormatter(\"%D\"))\n",
        "\n",
        "plt.show()"
      ]
    },
    {
      "cell_type": "markdown",
      "id": "323487b6",
      "metadata": {
        "id": "323487b6"
      },
      "source": [
        "Проверьте гипотезу случайности, используя критерий серий и критерий поворотных точек."
      ]
    },
    {
      "cell_type": "code",
      "execution_count": null,
      "id": "32f3eb69",
      "metadata": {
        "id": "32f3eb69",
        "colab": {
          "base_uri": "https://localhost:8080/"
        },
        "outputId": "c660ee8c-f17f-4203-8ff2-f103db6d9def"
      },
      "outputs": [
        {
          "output_type": "stream",
          "name": "stdout",
          "text": [
            " плюсы = 51 \n",
            " минусы = 52 \n",
            " серии = 51 \n",
            " среднее 52.495 \n",
            " дисперсия 25.493 \n",
            " статистика -0.296\n"
          ]
        }
      ],
      "source": [
        "series_test(ts_2['dj_ret'])"
      ]
    },
    {
      "cell_type": "code",
      "execution_count": null,
      "id": "fb340181",
      "metadata": {
        "id": "fb340181",
        "colab": {
          "base_uri": "https://localhost:8080/"
        },
        "outputId": "fe8b3d18-ebf3-44ec-8171-b8fa0f0310b6"
      },
      "outputs": [
        {
          "output_type": "stream",
          "name": "stdout",
          "text": [
            " # наблюдений = 103 \n",
            " пики = 34 \n",
            " впадины = 34 \n",
            " поворотные точки = 68 \n",
            " среднее 67.333 \n",
            " дисперсия 17.989 \n",
            " статистика 0.157\n"
          ]
        }
      ],
      "source": [
        "turning_points_test(ts_2['dj_ret'])"
      ]
    },
    {
      "cell_type": "markdown",
      "id": "028d3a24",
      "metadata": {
        "id": "028d3a24"
      },
      "source": [
        "## Задача 3\n",
        "\n",
        "В файле RTS_daily_518 приведены дневные данные по индексу РТС-1 за период с 9.10.1998 по 26.10.2000."
      ]
    },
    {
      "cell_type": "code",
      "execution_count": null,
      "id": "4d0aa095",
      "metadata": {
        "id": "4d0aa095"
      },
      "outputs": [],
      "source": [
        "data = pd.read_csv('rts1_daily_518.csv')"
      ]
    },
    {
      "cell_type": "code",
      "execution_count": null,
      "id": "e6969d2a",
      "metadata": {
        "id": "e6969d2a",
        "colab": {
          "base_uri": "https://localhost:8080/",
          "height": 423
        },
        "outputId": "496eab43-09e9-4a0d-802c-9112e4553912"
      },
      "outputs": [
        {
          "output_type": "execute_result",
          "data": {
            "text/plain": [
              "       rts1\n",
              "0     42.55\n",
              "1     44.75\n",
              "2     47.67\n",
              "3     51.89\n",
              "4     58.73\n",
              "..      ...\n",
              "513  191.11\n",
              "514  188.86\n",
              "515  190.75\n",
              "516  187.98\n",
              "517  189.00\n",
              "\n",
              "[518 rows x 1 columns]"
            ],
            "text/html": [
              "\n",
              "  <div id=\"df-21abee1a-7bdf-4773-aa4c-875b90d99783\">\n",
              "    <div class=\"colab-df-container\">\n",
              "      <div>\n",
              "<style scoped>\n",
              "    .dataframe tbody tr th:only-of-type {\n",
              "        vertical-align: middle;\n",
              "    }\n",
              "\n",
              "    .dataframe tbody tr th {\n",
              "        vertical-align: top;\n",
              "    }\n",
              "\n",
              "    .dataframe thead th {\n",
              "        text-align: right;\n",
              "    }\n",
              "</style>\n",
              "<table border=\"1\" class=\"dataframe\">\n",
              "  <thead>\n",
              "    <tr style=\"text-align: right;\">\n",
              "      <th></th>\n",
              "      <th>rts1</th>\n",
              "    </tr>\n",
              "  </thead>\n",
              "  <tbody>\n",
              "    <tr>\n",
              "      <th>0</th>\n",
              "      <td>42.55</td>\n",
              "    </tr>\n",
              "    <tr>\n",
              "      <th>1</th>\n",
              "      <td>44.75</td>\n",
              "    </tr>\n",
              "    <tr>\n",
              "      <th>2</th>\n",
              "      <td>47.67</td>\n",
              "    </tr>\n",
              "    <tr>\n",
              "      <th>3</th>\n",
              "      <td>51.89</td>\n",
              "    </tr>\n",
              "    <tr>\n",
              "      <th>4</th>\n",
              "      <td>58.73</td>\n",
              "    </tr>\n",
              "    <tr>\n",
              "      <th>...</th>\n",
              "      <td>...</td>\n",
              "    </tr>\n",
              "    <tr>\n",
              "      <th>513</th>\n",
              "      <td>191.11</td>\n",
              "    </tr>\n",
              "    <tr>\n",
              "      <th>514</th>\n",
              "      <td>188.86</td>\n",
              "    </tr>\n",
              "    <tr>\n",
              "      <th>515</th>\n",
              "      <td>190.75</td>\n",
              "    </tr>\n",
              "    <tr>\n",
              "      <th>516</th>\n",
              "      <td>187.98</td>\n",
              "    </tr>\n",
              "    <tr>\n",
              "      <th>517</th>\n",
              "      <td>189.00</td>\n",
              "    </tr>\n",
              "  </tbody>\n",
              "</table>\n",
              "<p>518 rows × 1 columns</p>\n",
              "</div>\n",
              "      <button class=\"colab-df-convert\" onclick=\"convertToInteractive('df-21abee1a-7bdf-4773-aa4c-875b90d99783')\"\n",
              "              title=\"Convert this dataframe to an interactive table.\"\n",
              "              style=\"display:none;\">\n",
              "        \n",
              "  <svg xmlns=\"http://www.w3.org/2000/svg\" height=\"24px\"viewBox=\"0 0 24 24\"\n",
              "       width=\"24px\">\n",
              "    <path d=\"M0 0h24v24H0V0z\" fill=\"none\"/>\n",
              "    <path d=\"M18.56 5.44l.94 2.06.94-2.06 2.06-.94-2.06-.94-.94-2.06-.94 2.06-2.06.94zm-11 1L8.5 8.5l.94-2.06 2.06-.94-2.06-.94L8.5 2.5l-.94 2.06-2.06.94zm10 10l.94 2.06.94-2.06 2.06-.94-2.06-.94-.94-2.06-.94 2.06-2.06.94z\"/><path d=\"M17.41 7.96l-1.37-1.37c-.4-.4-.92-.59-1.43-.59-.52 0-1.04.2-1.43.59L10.3 9.45l-7.72 7.72c-.78.78-.78 2.05 0 2.83L4 21.41c.39.39.9.59 1.41.59.51 0 1.02-.2 1.41-.59l7.78-7.78 2.81-2.81c.8-.78.8-2.07 0-2.86zM5.41 20L4 18.59l7.72-7.72 1.47 1.35L5.41 20z\"/>\n",
              "  </svg>\n",
              "      </button>\n",
              "      \n",
              "  <style>\n",
              "    .colab-df-container {\n",
              "      display:flex;\n",
              "      flex-wrap:wrap;\n",
              "      gap: 12px;\n",
              "    }\n",
              "\n",
              "    .colab-df-convert {\n",
              "      background-color: #E8F0FE;\n",
              "      border: none;\n",
              "      border-radius: 50%;\n",
              "      cursor: pointer;\n",
              "      display: none;\n",
              "      fill: #1967D2;\n",
              "      height: 32px;\n",
              "      padding: 0 0 0 0;\n",
              "      width: 32px;\n",
              "    }\n",
              "\n",
              "    .colab-df-convert:hover {\n",
              "      background-color: #E2EBFA;\n",
              "      box-shadow: 0px 1px 2px rgba(60, 64, 67, 0.3), 0px 1px 3px 1px rgba(60, 64, 67, 0.15);\n",
              "      fill: #174EA6;\n",
              "    }\n",
              "\n",
              "    [theme=dark] .colab-df-convert {\n",
              "      background-color: #3B4455;\n",
              "      fill: #D2E3FC;\n",
              "    }\n",
              "\n",
              "    [theme=dark] .colab-df-convert:hover {\n",
              "      background-color: #434B5C;\n",
              "      box-shadow: 0px 1px 3px 1px rgba(0, 0, 0, 0.15);\n",
              "      filter: drop-shadow(0px 1px 2px rgba(0, 0, 0, 0.3));\n",
              "      fill: #FFFFFF;\n",
              "    }\n",
              "  </style>\n",
              "\n",
              "      <script>\n",
              "        const buttonEl =\n",
              "          document.querySelector('#df-21abee1a-7bdf-4773-aa4c-875b90d99783 button.colab-df-convert');\n",
              "        buttonEl.style.display =\n",
              "          google.colab.kernel.accessAllowed ? 'block' : 'none';\n",
              "\n",
              "        async function convertToInteractive(key) {\n",
              "          const element = document.querySelector('#df-21abee1a-7bdf-4773-aa4c-875b90d99783');\n",
              "          const dataTable =\n",
              "            await google.colab.kernel.invokeFunction('convertToInteractive',\n",
              "                                                     [key], {});\n",
              "          if (!dataTable) return;\n",
              "\n",
              "          const docLinkHtml = 'Like what you see? Visit the ' +\n",
              "            '<a target=\"_blank\" href=https://colab.research.google.com/notebooks/data_table.ipynb>data table notebook</a>'\n",
              "            + ' to learn more about interactive tables.';\n",
              "          element.innerHTML = '';\n",
              "          dataTable['output_type'] = 'display_data';\n",
              "          await google.colab.output.renderOutput(dataTable, element);\n",
              "          const docLink = document.createElement('div');\n",
              "          docLink.innerHTML = docLinkHtml;\n",
              "          element.appendChild(docLink);\n",
              "        }\n",
              "      </script>\n",
              "    </div>\n",
              "  </div>\n",
              "  "
            ]
          },
          "metadata": {},
          "execution_count": 142
        }
      ],
      "source": [
        "data"
      ]
    },
    {
      "cell_type": "code",
      "execution_count": null,
      "id": "86c651e2",
      "metadata": {
        "id": "86c651e2",
        "colab": {
          "base_uri": "https://localhost:8080/",
          "height": 423
        },
        "outputId": "d2fc9e50-5d94-41b5-a0fe-e635cb967946"
      },
      "outputs": [
        {
          "output_type": "execute_result",
          "data": {
            "text/plain": [
              "       rts1                      date\n",
              "0     42.55 1998-10-09 14:45:00+00:00\n",
              "1     44.75 1998-10-12 14:45:00+00:00\n",
              "2     47.67 1998-10-13 14:45:00+00:00\n",
              "3     51.89 1998-10-14 14:45:00+00:00\n",
              "4     58.73 1998-10-15 14:45:00+00:00\n",
              "..      ...                       ...\n",
              "513  191.11 2000-10-20 14:45:00+00:00\n",
              "514  188.86 2000-10-23 14:45:00+00:00\n",
              "515  190.75 2000-10-24 14:45:00+00:00\n",
              "516  187.98 2000-10-25 14:45:00+00:00\n",
              "517  189.00 2000-10-26 14:45:00+00:00\n",
              "\n",
              "[518 rows x 2 columns]"
            ],
            "text/html": [
              "\n",
              "  <div id=\"df-1f4449ca-086a-49ee-bf5b-e52be3519a2f\">\n",
              "    <div class=\"colab-df-container\">\n",
              "      <div>\n",
              "<style scoped>\n",
              "    .dataframe tbody tr th:only-of-type {\n",
              "        vertical-align: middle;\n",
              "    }\n",
              "\n",
              "    .dataframe tbody tr th {\n",
              "        vertical-align: top;\n",
              "    }\n",
              "\n",
              "    .dataframe thead th {\n",
              "        text-align: right;\n",
              "    }\n",
              "</style>\n",
              "<table border=\"1\" class=\"dataframe\">\n",
              "  <thead>\n",
              "    <tr style=\"text-align: right;\">\n",
              "      <th></th>\n",
              "      <th>rts1</th>\n",
              "      <th>date</th>\n",
              "    </tr>\n",
              "  </thead>\n",
              "  <tbody>\n",
              "    <tr>\n",
              "      <th>0</th>\n",
              "      <td>42.55</td>\n",
              "      <td>1998-10-09 14:45:00+00:00</td>\n",
              "    </tr>\n",
              "    <tr>\n",
              "      <th>1</th>\n",
              "      <td>44.75</td>\n",
              "      <td>1998-10-12 14:45:00+00:00</td>\n",
              "    </tr>\n",
              "    <tr>\n",
              "      <th>2</th>\n",
              "      <td>47.67</td>\n",
              "      <td>1998-10-13 14:45:00+00:00</td>\n",
              "    </tr>\n",
              "    <tr>\n",
              "      <th>3</th>\n",
              "      <td>51.89</td>\n",
              "      <td>1998-10-14 14:45:00+00:00</td>\n",
              "    </tr>\n",
              "    <tr>\n",
              "      <th>4</th>\n",
              "      <td>58.73</td>\n",
              "      <td>1998-10-15 14:45:00+00:00</td>\n",
              "    </tr>\n",
              "    <tr>\n",
              "      <th>...</th>\n",
              "      <td>...</td>\n",
              "      <td>...</td>\n",
              "    </tr>\n",
              "    <tr>\n",
              "      <th>513</th>\n",
              "      <td>191.11</td>\n",
              "      <td>2000-10-20 14:45:00+00:00</td>\n",
              "    </tr>\n",
              "    <tr>\n",
              "      <th>514</th>\n",
              "      <td>188.86</td>\n",
              "      <td>2000-10-23 14:45:00+00:00</td>\n",
              "    </tr>\n",
              "    <tr>\n",
              "      <th>515</th>\n",
              "      <td>190.75</td>\n",
              "      <td>2000-10-24 14:45:00+00:00</td>\n",
              "    </tr>\n",
              "    <tr>\n",
              "      <th>516</th>\n",
              "      <td>187.98</td>\n",
              "      <td>2000-10-25 14:45:00+00:00</td>\n",
              "    </tr>\n",
              "    <tr>\n",
              "      <th>517</th>\n",
              "      <td>189.00</td>\n",
              "      <td>2000-10-26 14:45:00+00:00</td>\n",
              "    </tr>\n",
              "  </tbody>\n",
              "</table>\n",
              "<p>518 rows × 2 columns</p>\n",
              "</div>\n",
              "      <button class=\"colab-df-convert\" onclick=\"convertToInteractive('df-1f4449ca-086a-49ee-bf5b-e52be3519a2f')\"\n",
              "              title=\"Convert this dataframe to an interactive table.\"\n",
              "              style=\"display:none;\">\n",
              "        \n",
              "  <svg xmlns=\"http://www.w3.org/2000/svg\" height=\"24px\"viewBox=\"0 0 24 24\"\n",
              "       width=\"24px\">\n",
              "    <path d=\"M0 0h24v24H0V0z\" fill=\"none\"/>\n",
              "    <path d=\"M18.56 5.44l.94 2.06.94-2.06 2.06-.94-2.06-.94-.94-2.06-.94 2.06-2.06.94zm-11 1L8.5 8.5l.94-2.06 2.06-.94-2.06-.94L8.5 2.5l-.94 2.06-2.06.94zm10 10l.94 2.06.94-2.06 2.06-.94-2.06-.94-.94-2.06-.94 2.06-2.06.94z\"/><path d=\"M17.41 7.96l-1.37-1.37c-.4-.4-.92-.59-1.43-.59-.52 0-1.04.2-1.43.59L10.3 9.45l-7.72 7.72c-.78.78-.78 2.05 0 2.83L4 21.41c.39.39.9.59 1.41.59.51 0 1.02-.2 1.41-.59l7.78-7.78 2.81-2.81c.8-.78.8-2.07 0-2.86zM5.41 20L4 18.59l7.72-7.72 1.47 1.35L5.41 20z\"/>\n",
              "  </svg>\n",
              "      </button>\n",
              "      \n",
              "  <style>\n",
              "    .colab-df-container {\n",
              "      display:flex;\n",
              "      flex-wrap:wrap;\n",
              "      gap: 12px;\n",
              "    }\n",
              "\n",
              "    .colab-df-convert {\n",
              "      background-color: #E8F0FE;\n",
              "      border: none;\n",
              "      border-radius: 50%;\n",
              "      cursor: pointer;\n",
              "      display: none;\n",
              "      fill: #1967D2;\n",
              "      height: 32px;\n",
              "      padding: 0 0 0 0;\n",
              "      width: 32px;\n",
              "    }\n",
              "\n",
              "    .colab-df-convert:hover {\n",
              "      background-color: #E2EBFA;\n",
              "      box-shadow: 0px 1px 2px rgba(60, 64, 67, 0.3), 0px 1px 3px 1px rgba(60, 64, 67, 0.15);\n",
              "      fill: #174EA6;\n",
              "    }\n",
              "\n",
              "    [theme=dark] .colab-df-convert {\n",
              "      background-color: #3B4455;\n",
              "      fill: #D2E3FC;\n",
              "    }\n",
              "\n",
              "    [theme=dark] .colab-df-convert:hover {\n",
              "      background-color: #434B5C;\n",
              "      box-shadow: 0px 1px 3px 1px rgba(0, 0, 0, 0.15);\n",
              "      filter: drop-shadow(0px 1px 2px rgba(0, 0, 0, 0.3));\n",
              "      fill: #FFFFFF;\n",
              "    }\n",
              "  </style>\n",
              "\n",
              "      <script>\n",
              "        const buttonEl =\n",
              "          document.querySelector('#df-1f4449ca-086a-49ee-bf5b-e52be3519a2f button.colab-df-convert');\n",
              "        buttonEl.style.display =\n",
              "          google.colab.kernel.accessAllowed ? 'block' : 'none';\n",
              "\n",
              "        async function convertToInteractive(key) {\n",
              "          const element = document.querySelector('#df-1f4449ca-086a-49ee-bf5b-e52be3519a2f');\n",
              "          const dataTable =\n",
              "            await google.colab.kernel.invokeFunction('convertToInteractive',\n",
              "                                                     [key], {});\n",
              "          if (!dataTable) return;\n",
              "\n",
              "          const docLinkHtml = 'Like what you see? Visit the ' +\n",
              "            '<a target=\"_blank\" href=https://colab.research.google.com/notebooks/data_table.ipynb>data table notebook</a>'\n",
              "            + ' to learn more about interactive tables.';\n",
              "          element.innerHTML = '';\n",
              "          dataTable['output_type'] = 'display_data';\n",
              "          await google.colab.output.renderOutput(dataTable, element);\n",
              "          const docLink = document.createElement('div');\n",
              "          docLink.innerHTML = docLinkHtml;\n",
              "          element.appendChild(docLink);\n",
              "        }\n",
              "      </script>\n",
              "    </div>\n",
              "  </div>\n",
              "  "
            ]
          },
          "metadata": {},
          "execution_count": 143
        }
      ],
      "source": [
        "trad_dat = mcal.get_calendar('XMOS').schedule(start_date = '1998-10-09', end_date = '2000-10-26')\n",
        "dates = mcal.date_range(trad_dat, frequency='1D')\n",
        "data['date'] = dates\n",
        "data"
      ]
    },
    {
      "cell_type": "code",
      "execution_count": null,
      "id": "74284ca3",
      "metadata": {
        "id": "74284ca3",
        "colab": {
          "base_uri": "https://localhost:8080/",
          "height": 313
        },
        "outputId": "fc6aa403-3d2d-4cd2-89e9-e6115ada7153"
      },
      "outputs": [
        {
          "output_type": "display_data",
          "data": {
            "text/plain": [
              "<Figure size 720x288 with 1 Axes>"
            ],
            "image/png": "[encoded data removed]"
          },
          "metadata": {
            "needs_background": "light"
          }
        }
      ],
      "source": [
        "fig, ax = plt.subplots(figsize=(10, 4), constrained_layout=True)\n",
        "\n",
        "ax.set(title='RTS')\n",
        "ax.plot(data['date'], data['rts1'], 'b-')\n",
        "ax.xaxis_date()\n",
        "ax.set_xlabel('date')\n",
        "ax.set_ylabel('index')\n",
        "\n",
        "ax.xaxis.set_major_formatter(mdates.DateFormatter(\"%D\"))\n",
        "\n",
        "plt.show()"
      ]
    },
    {
      "cell_type": "markdown",
      "id": "bc9c1cdf",
      "metadata": {
        "id": "bc9c1cdf"
      },
      "source": [
        "Индекс РТС появился 1 сентября 1995 года и начал рассчитываться в долларах с отметки в 100 пунктов. Почему мы рассматриваем здесь динамику этого индекса не с этой даты?\n",
        "\n",
        "Проверьте гипотезу случайности для ряда значений логарифмической доходности индекса, определяемой как изменение логарифма индекса от сессии к сессии:"
      ]
    },
    {
      "cell_type": "code",
      "execution_count": null,
      "id": "5f380e45",
      "metadata": {
        "scrolled": true,
        "id": "5f380e45",
        "colab": {
          "base_uri": "https://localhost:8080/",
          "height": 313
        },
        "outputId": "fd862bed-60bc-4028-c26d-f79c435df2b0"
      },
      "outputs": [
        {
          "output_type": "display_data",
          "data": {
            "text/plain": [
              "<Figure size 720x288 with 1 Axes>"
            ],
            "image/png": "[encoded data removed]"
          },
          "metadata": {
            "needs_background": "light"
          }
        }
      ],
      "source": [
        "data['rts_ret'] = np.log(data['rts1']).diff(1)\n",
        "\n",
        "fig, ax = plt.subplots(figsize=(10, 4), constrained_layout=True)\n",
        "\n",
        "ax.set(title='RTS return')\n",
        "ax.plot(data['rts_ret'], 'b-')\n",
        "#ax.xaxis_date()\n",
        "ax.set_xlabel('date')\n",
        "ax.set_ylabel('index')\n",
        "\n",
        "#ax.xaxis.set_major_formatter(mdates.DateFormatter(\"%D\"))\n",
        "\n",
        "plt.show()"
      ]
    },
    {
      "cell_type": "markdown",
      "id": "97f3d080",
      "metadata": {
        "id": "97f3d080"
      },
      "source": [
        "Используйте все три критерия для проверки случайности рядов"
      ]
    },
    {
      "cell_type": "code",
      "execution_count": null,
      "id": "732eb681",
      "metadata": {
        "id": "732eb681",
        "colab": {
          "base_uri": "https://localhost:8080/"
        },
        "outputId": "b6949a96-837f-4115-c98a-b2f378a12e61"
      },
      "outputs": [
        {
          "output_type": "stream",
          "name": "stdout",
          "text": [
            " # наблюдений = 517 \n",
            " пики = 171 \n",
            " впадины = 171 \n",
            " поворотные точки = 342 \n",
            " среднее 343.333 \n",
            " дисперсия 91.589 \n",
            " статистика -0.139\n"
          ]
        }
      ],
      "source": [
        "turning_points_test(data['rts_ret'])"
      ]
    },
    {
      "cell_type": "code",
      "execution_count": null,
      "id": "3eb27e3b",
      "metadata": {
        "id": "3eb27e3b",
        "colab": {
          "base_uri": "https://localhost:8080/"
        },
        "outputId": "4ae8f6a8-d28d-4b33-c029-d1efce0699a8"
      },
      "outputs": [
        {
          "output_type": "stream",
          "name": "stdout",
          "text": [
            " p-value 0.271 \n",
            " тау Кендалла = -0.032 \n",
            " стандартизированная тау = -1.1\n"
          ]
        }
      ],
      "source": [
        "results_ret = mk.original_test(data['rts_ret'])\n",
        "\n",
        "print(' p-value', round(results_ret.p, 3),\n",
        "      '\\n тау Кендалла =', round(results_ret.Tau, 3),\n",
        "      '\\n стандартизированная тау =', round(results_ret.z, 3))"
      ]
    },
    {
      "cell_type": "code",
      "execution_count": null,
      "id": "d6f163b2",
      "metadata": {
        "id": "d6f163b2",
        "colab": {
          "base_uri": "https://localhost:8080/"
        },
        "outputId": "2217fd3e-7b30-484e-efb0-aa7e3af149da"
      },
      "outputs": [
        {
          "output_type": "stream",
          "name": "stdout",
          "text": [
            " плюсы = 258 \n",
            " минусы = 259 \n",
            " серии = 225 \n",
            " среднее 259.499 \n",
            " дисперсия 128.999 \n",
            " статистика -3.037\n"
          ]
        }
      ],
      "source": [
        "series_test(data['rts_ret'].dropna().values)"
      ]
    },
    {
      "cell_type": "markdown",
      "id": "f780a28c",
      "metadata": {
        "id": "f780a28c"
      },
      "source": [
        "Отвергается ли гипотеза случайности?"
      ]
    },
    {
      "cell_type": "markdown",
      "id": "d2fe3e23",
      "metadata": {
        "id": "d2fe3e23"
      },
      "source": [
        "## Задача 4 Белый шум\n",
        "\n",
        "Белый шум это случайный процес $wn_t$, обладающий свойствами:\n",
        "\n",
        "$E(wn_t) = 0,$ \n",
        "\n",
        "$D(wn_t) = \\sigma^2 > 0, $\n",
        "\n",
        "$cov(wn_s, wn_t) = 0 \\quad (s \\neq t)$"
      ]
    },
    {
      "cell_type": "markdown",
      "id": "d2770016",
      "metadata": {
        "id": "d2770016"
      },
      "source": [
        "Смоделируйте 4 реализации процесса гауссовского белого шума с единичной дисперсией. Постройте раздельные графики этих реализаций и объединенный график для всех четырех реализаций. "
      ]
    },
    {
      "cell_type": "code",
      "execution_count": null,
      "id": "d25a2fcb",
      "metadata": {
        "id": "d25a2fcb"
      },
      "outputs": [],
      "source": [
        "wn = []\n",
        "\n",
        "for i in range(0, 4):\n",
        "    wn.append(np.random.standard_normal(100))"
      ]
    },
    {
      "cell_type": "code",
      "execution_count": null,
      "id": "f52db35c",
      "metadata": {
        "id": "f52db35c",
        "colab": {
          "base_uri": "https://localhost:8080/",
          "height": 313
        },
        "outputId": "40132068-c7f2-46a2-83ce-7209bddfc985"
      },
      "outputs": [
        {
          "output_type": "display_data",
          "data": {
            "text/plain": [
              "<Figure size 432x288 with 4 Axes>"
            ],
            "image/png": "[encoded data removed]"
          },
          "metadata": {
            "needs_background": "light"
          }
        }
      ],
      "source": [
        "fig, ax = plt.subplots(nrows = 2, ncols = 2, constrained_layout=True)\n",
        "\n",
        "i=0\n",
        "\n",
        "for row in ax:\n",
        "    for col in row:\n",
        "        col.plot(wn[i], 'b-')\n",
        "        i += 1\n",
        "\n",
        "plt.show()"
      ]
    },
    {
      "cell_type": "markdown",
      "id": "39a975c3",
      "metadata": {
        "id": "39a975c3"
      },
      "source": [
        "Является ли белый шум случайным процессом?"
      ]
    },
    {
      "cell_type": "code",
      "execution_count": null,
      "id": "fcc5ef6b",
      "metadata": {
        "id": "fcc5ef6b",
        "colab": {
          "base_uri": "https://localhost:8080/",
          "height": 313
        },
        "outputId": "2d68b3f6-cc6c-4251-b136-92835170821c"
      },
      "outputs": [
        {
          "output_type": "display_data",
          "data": {
            "text/plain": [
              "<Figure size 720x288 with 1 Axes>"
            ],
            "image/png": "[encoded data removed]"
          },
          "metadata": {
            "needs_background": "light"
          }
        }
      ],
      "source": [
        "fig, ax = plt.subplots(figsize = (10,4), constrained_layout=True)\n",
        "\n",
        "ax.plot(wn[0], 'b-')\n",
        "ax.plot(wn[1], 'g-')\n",
        "ax.plot(wn[2], 'r-')\n",
        "ax.plot(wn[3], 'y-')\n",
        "\n",
        "\n",
        "plt.show()"
      ]
    },
    {
      "cell_type": "markdown",
      "id": "df591ce0",
      "metadata": {
        "id": "df591ce0"
      },
      "source": [
        "Для каждой реализации проведите обычную диагностику остатков от оцененной регрессии реализации на константу. "
      ]
    },
    {
      "cell_type": "code",
      "execution_count": null,
      "id": "150e1532",
      "metadata": {
        "id": "150e1532",
        "colab": {
          "base_uri": "https://localhost:8080/"
        },
        "outputId": "6c41ab8b-3309-408b-ed3e-bb75adb40ea8"
      },
      "outputs": [
        {
          "output_type": "execute_result",
          "data": {
            "text/plain": [
              "(2.4819454132726726,\n",
              " 0.2891028688470582,\n",
              " -0.24090203449026032,\n",
              " 2.397064067832033)"
            ]
          },
          "metadata": {},
          "execution_count": 152
        }
      ],
      "source": [
        "# Return the jarque bera test statistics, pvalue, skewness, and the kurtosis.\n",
        "stat.jarque_bera(wn[0])"
      ]
    },
    {
      "cell_type": "code",
      "execution_count": null,
      "id": "303b4922",
      "metadata": {
        "id": "303b4922"
      },
      "outputs": [],
      "source": [
        "results = []\n",
        "results.append('p-value')\n",
        "\n",
        "for i in range(0, len(wn)):\n",
        "    results.append(stat.jarque_bera(wn[i])[1])"
      ]
    },
    {
      "cell_type": "code",
      "execution_count": null,
      "id": "8eba2198",
      "metadata": {
        "id": "8eba2198"
      },
      "outputs": [],
      "source": [
        "results"
      ]
    },
    {
      "cell_type": "code",
      "execution_count": null,
      "id": "9c136b72",
      "metadata": {
        "id": "9c136b72"
      },
      "outputs": [],
      "source": []
    }
  ],
  "metadata": {
    "kernelspec": {
      "display_name": "Python 3 (ipykernel)",
      "language": "python",
      "name": "python3"
    },
    "language_info": {
      "codemirror_mode": {
        "name": "ipython",
        "version": 3
      },
      "file_extension": ".py",
      "mimetype": "text/x-python",
      "name": "python",
      "nbconvert_exporter": "python",
      "pygments_lexer": "ipython3",
      "version": "3.8.3"
    },
    "colab": {
      "provenance": [],
      "include_colab_link": true
    }
  },
  "nbformat": 4,
  "nbformat_minor": 5
}