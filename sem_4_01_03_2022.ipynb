{
  "cells": [
    {
      "cell_type": "markdown",
      "metadata": {
        "id": "view-in-github",
        "colab_type": "text"
      },
      "source": [
        "<a href=\"https://colab.research.google.com/github/shinobu9/econometrica/blob/main/sem_4_01_03_2022.ipynb\" target=\"_parent\"><img src=\"https://colab.research.google.com/assets/colab-badge.svg\" alt=\"Open In Colab\"/></a>"
      ]
    },
    {
      "cell_type": "code",
      "execution_count": null,
      "id": "c1b0bfba",
      "metadata": {
        "id": "c1b0bfba"
      },
      "outputs": [],
      "source": [
        "import pandas as pd\n",
        "import numpy as np\n",
        "\n",
        "import statsmodels.api as sm\n",
        "import statsmodels.tsa as tsa\n",
        "\n",
        "from matplotlib import pyplot as plt\n",
        "%matplotlib inline\n",
        "\n",
        "np.random.seed(123)"
      ]
    },
    {
      "cell_type": "markdown",
      "id": "1d0292b2",
      "metadata": {
        "id": "1d0292b2"
      },
      "source": [
        "## Задача 10\n",
        "\n",
        "Что бывает, когда сумма коэффициентов больше единицы"
      ]
    },
    {
      "cell_type": "code",
      "execution_count": null,
      "id": "abbacaf1",
      "metadata": {
        "id": "abbacaf1"
      },
      "outputs": [],
      "source": [
        "wn = np.random.standard_normal(30)\n",
        "x = wn.copy()\n",
        "\n",
        "for t in range(5, len(wn)):\n",
        "    x[t] = 0.1 * x[t-1] + 0.2 * x[t-2] + 0.3 * x[t-3] + 0.4 * x[t-4] + 0.5 * x[t-5] + wn[t]"
      ]
    },
    {
      "cell_type": "code",
      "execution_count": null,
      "id": "025f27e3",
      "metadata": {
        "id": "025f27e3"
      },
      "outputs": [],
      "source": [
        "fig, ax = plt.subplots(figsize=(10, 5), constrained_layout=True)\n",
        "\n",
        "ax.set(title='AR(5)')\n",
        "ax.plot(x,'b-')\n",
        "\n",
        "plt.show()"
      ]
    },
    {
      "cell_type": "markdown",
      "id": "c9db1413",
      "metadata": {
        "id": "c9db1413"
      },
      "source": [
        "## Задача 13\n",
        "\n",
        "Моделирование стационарных процессов из задачи 11. Мат ожидание, дисперсия, коррелограммы."
      ]
    },
    {
      "cell_type": "markdown",
      "id": "0717bde9",
      "metadata": {
        "id": "0717bde9"
      },
      "source": [
        "https://www.statsmodels.org/devel/generated/statsmodels.tsa.statespace.sarimax.SARIMAX.html"
      ]
    },
    {
      "cell_type": "code",
      "execution_count": null,
      "id": "c016e5ff",
      "metadata": {
        "id": "c016e5ff"
      },
      "outputs": [],
      "source": [
        "nsample = 200\n",
        "empty_dataset = np.zeros(nsample)\n",
        "mod = sm.tsa.SARIMAX(empty_dataset, order=(1, 0, 0), trend='c')\n",
        "siml = mod.simulate([1, -0.5, 1**2], nsample)"
      ]
    },
    {
      "cell_type": "code",
      "execution_count": null,
      "id": "0473f1d6",
      "metadata": {
        "id": "0473f1d6"
      },
      "outputs": [],
      "source": [
        "fig, ax = plt.subplots(figsize=(10, 5), constrained_layout=True)\n",
        "\n",
        "ax.set(title='ar(1)')\n",
        "ax.plot(siml,'b-')\n",
        "\n",
        "plt.show()"
      ]
    },
    {
      "cell_type": "code",
      "execution_count": null,
      "id": "125412fb",
      "metadata": {
        "id": "125412fb"
      },
      "outputs": [],
      "source": [
        "print(np.mean(siml), np.var(siml))"
      ]
    },
    {
      "cell_type": "code",
      "execution_count": null,
      "id": "351f6074",
      "metadata": {
        "id": "351f6074"
      },
      "outputs": [],
      "source": [
        "nsample = 210\n",
        "empty_dataset = np.zeros(nsample)\n",
        "mod = sm.tsa.SARIMAX(empty_dataset, order=(1, 0, 0), trend='c')\n",
        "ar_1 = mod.simulate([1, -0.5, 1**2], nsample)[10:]"
      ]
    },
    {
      "cell_type": "code",
      "execution_count": null,
      "id": "16053ef0",
      "metadata": {
        "id": "16053ef0"
      },
      "outputs": [],
      "source": [
        "print(np.mean(ar_1), np.var(ar_1))"
      ]
    },
    {
      "cell_type": "code",
      "execution_count": null,
      "id": "ef04b0c8",
      "metadata": {
        "id": "ef04b0c8"
      },
      "outputs": [],
      "source": [
        "sm.graphics.tsa.plot_acf(ar_1)\n",
        "sm.graphics.tsa.plot_pacf(ar_1, method = 'ywm')\n",
        "plt.show()"
      ]
    },
    {
      "cell_type": "code",
      "execution_count": null,
      "id": "c77c981b",
      "metadata": {
        "id": "c77c981b"
      },
      "outputs": [],
      "source": [
        "nsample = 210\n",
        "empty_dataset = np.zeros(nsample)\n",
        "mod = sm.tsa.SARIMAX(empty_dataset, order=(2, 0, 0), trend='c')\n",
        "ar_2 = mod.simulate([1, 0.1, 0.2, 1**2], nsample)[10:]"
      ]
    },
    {
      "cell_type": "code",
      "execution_count": null,
      "id": "8c51ad45",
      "metadata": {
        "id": "8c51ad45"
      },
      "outputs": [],
      "source": [
        "print(np.mean(ar_2), np.var(ar_2))"
      ]
    },
    {
      "cell_type": "code",
      "execution_count": null,
      "id": "7a74d335",
      "metadata": {
        "id": "7a74d335"
      },
      "outputs": [],
      "source": [
        "sm.graphics.tsa.plot_acf(ar_2)\n",
        "sm.graphics.tsa.plot_pacf(ar_2, method = 'ywm')\n",
        "plt.show()"
      ]
    },
    {
      "cell_type": "markdown",
      "id": "e4fd00a8",
      "metadata": {
        "id": "e4fd00a8"
      },
      "source": [
        "## Задача 14\n",
        "\n",
        "Коррелограмма ARMA процесса"
      ]
    },
    {
      "cell_type": "code",
      "execution_count": null,
      "id": "1a369727",
      "metadata": {
        "id": "1a369727"
      },
      "outputs": [],
      "source": [
        "nsample = 210\n",
        "empty_dataset = np.zeros(nsample)\n",
        "mod = sm.tsa.SARIMAX(empty_dataset, order=(1, 0, 1), trend='c')\n",
        "arma_11 = mod.simulate([1, 0.4, -0.8, 1**2], nsample)[10:]"
      ]
    },
    {
      "cell_type": "code",
      "execution_count": null,
      "id": "5c1846a9",
      "metadata": {
        "id": "5c1846a9"
      },
      "outputs": [],
      "source": [
        "fig, ax = plt.subplots(figsize=(10, 5), constrained_layout=True)\n",
        "\n",
        "ax.set(title='ARMA(1, 1)')\n",
        "ax.plot(arma_11,'b-')\n",
        "\n",
        "plt.show()"
      ]
    },
    {
      "cell_type": "code",
      "execution_count": null,
      "id": "6402e68c",
      "metadata": {
        "id": "6402e68c"
      },
      "outputs": [],
      "source": [
        "print(np.mean(arma_11), np.var(arma_11))"
      ]
    },
    {
      "cell_type": "code",
      "execution_count": null,
      "id": "287e63ff",
      "metadata": {
        "id": "287e63ff"
      },
      "outputs": [],
      "source": [
        "ar = np.array([1, -0.4])\n",
        "ma = np.array([1, -0.8])\n",
        "print(tsa.arima_process.arma_acf(ar, ma, 3))\n"
      ]
    },
    {
      "cell_type": "code",
      "execution_count": null,
      "id": "5aed5f87",
      "metadata": {
        "id": "5aed5f87"
      },
      "outputs": [],
      "source": [
        "sm.graphics.tsa.plot_acf(arma_11)\n",
        "sm.graphics.tsa.plot_pacf(arma_11, method = 'ywm')\n",
        "plt.show()"
      ]
    },
    {
      "cell_type": "markdown",
      "id": "88ff3d3e",
      "metadata": {
        "id": "88ff3d3e"
      },
      "source": [
        "## Игра \"найди процесс\""
      ]
    },
    {
      "cell_type": "code",
      "execution_count": null,
      "id": "a3bb8b51",
      "metadata": {
        "id": "a3bb8b51"
      },
      "outputs": [],
      "source": [
        "sm.graphics.tsa.plot_acf(row_1, zero = False)\n",
        "sm.graphics.tsa.plot_pacf(row_5, method = 'ywm', zero = False)\n",
        "plt.show()"
      ]
    },
    {
      "cell_type": "code",
      "execution_count": null,
      "id": "9c5bb125",
      "metadata": {
        "id": "9c5bb125"
      },
      "outputs": [],
      "source": []
    },
    {
      "cell_type": "code",
      "execution_count": null,
      "id": "1d5b35c6",
      "metadata": {
        "id": "1d5b35c6"
      },
      "outputs": [],
      "source": []
    },
    {
      "cell_type": "code",
      "execution_count": null,
      "id": "e61d2171",
      "metadata": {
        "id": "e61d2171"
      },
      "outputs": [],
      "source": []
    },
    {
      "cell_type": "code",
      "execution_count": null,
      "id": "e9b5d941",
      "metadata": {
        "id": "e9b5d941"
      },
      "outputs": [],
      "source": []
    }
  ],
  "metadata": {
    "kernelspec": {
      "display_name": "Python 3 (ipykernel)",
      "language": "python",
      "name": "python3"
    },
    "language_info": {
      "codemirror_mode": {
        "name": "ipython",
        "version": 3
      },
      "file_extension": ".py",
      "mimetype": "text/x-python",
      "name": "python",
      "nbconvert_exporter": "python",
      "pygments_lexer": "ipython3",
      "version": "3.8.3"
    },
    "colab": {
      "provenance": [],
      "include_colab_link": true
    }
  },
  "nbformat": 4,
  "nbformat_minor": 5
}